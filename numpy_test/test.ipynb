{
 "cells": [
  {
   "cell_type": "code",
   "execution_count": 3,
   "metadata": {},
   "outputs": [
    {
     "name": "stdout",
     "output_type": "stream",
     "text": [
      "[[0. 0. 0. 0. 0. 0. 0. 0. 0. 0. 0. 0. 0. 0. 0. 0.]\n",
      " [0. 0. 0. 0. 0. 0. 0. 0. 0. 0. 0. 0. 0. 0. 0. 0.]\n",
      " [0. 0. 0. 0. 0. 0. 0. 0. 0. 0. 0. 0. 0. 0. 0. 0.]\n",
      " [0. 0. 0. 0. 0. 0. 0. 0. 0. 0. 0. 0. 0. 0. 0. 0.]\n",
      " [0. 0. 0. 0. 0. 0. 0. 0. 0. 0. 0. 0. 0. 0. 0. 0.]\n",
      " [0. 0. 0. 0. 0. 0. 0. 0. 0. 0. 0. 0. 0. 0. 0. 0.]\n",
      " [0. 0. 0. 0. 0. 0. 0. 0. 0. 0. 0. 0. 0. 0. 0. 0.]\n",
      " [0. 0. 0. 0. 0. 0. 0. 0. 0. 0. 0. 0. 0. 0. 0. 0.]\n",
      " [0. 0. 0. 0. 0. 0. 0. 0. 0. 0. 0. 0. 0. 0. 0. 0.]\n",
      " [0. 0. 0. 0. 0. 0. 0. 0. 0. 0. 0. 0. 0. 0. 0. 0.]\n",
      " [0. 0. 0. 0. 0. 0. 0. 0. 0. 0. 0. 0. 0. 0. 0. 0.]\n",
      " [0. 0. 0. 0. 0. 0. 0. 0. 0. 0. 0. 0. 0. 0. 0. 0.]\n",
      " [0. 0. 0. 0. 0. 0. 0. 0. 0. 0. 0. 0. 0. 0. 0. 0.]\n",
      " [0. 0. 0. 0. 0. 0. 0. 0. 0. 0. 0. 0. 0. 0. 0. 0.]\n",
      " [0. 0. 0. 0. 0. 0. 0. 0. 0. 0. 0. 0. 0. 0. 0. 0.]\n",
      " [0. 0. 0. 0. 0. 0. 0. 0. 0. 0. 0. 0. 0. 0. 0. 0.]]\n"
     ]
    }
   ],
   "source": [
    "matrix_zeros = np.zeros((16, 16))\n",
    "print(matrix_zeros)"
   ]
  },
  {
   "cell_type": "code",
   "execution_count": 2,
   "metadata": {},
   "outputs": [],
   "source": [
    "import numpy as np"
   ]
  },
  {
   "cell_type": "code",
   "execution_count": 4,
   "metadata": {},
   "outputs": [
    {
     "name": "stdout",
     "output_type": "stream",
     "text": [
      "[[9. 0. 9. 0. 9. 0. 9. 0. 9. 0. 9. 0. 9. 0. 9. 0.]\n",
      " [0. 9. 0. 9. 0. 9. 0. 9. 0. 9. 0. 9. 0. 9. 0. 9.]\n",
      " [9. 0. 9. 0. 9. 0. 9. 0. 9. 0. 9. 0. 9. 0. 9. 0.]\n",
      " [0. 9. 0. 9. 0. 9. 0. 9. 0. 9. 0. 9. 0. 9. 0. 9.]\n",
      " [9. 0. 9. 0. 9. 0. 9. 0. 9. 0. 9. 0. 9. 0. 9. 0.]\n",
      " [0. 9. 0. 9. 0. 9. 0. 9. 0. 9. 0. 9. 0. 9. 0. 9.]\n",
      " [9. 0. 9. 0. 9. 0. 9. 0. 9. 0. 9. 0. 9. 0. 9. 0.]\n",
      " [0. 9. 0. 9. 0. 9. 0. 9. 0. 9. 0. 9. 0. 9. 0. 9.]\n",
      " [9. 0. 9. 0. 9. 0. 9. 0. 9. 0. 9. 0. 9. 0. 9. 0.]\n",
      " [0. 9. 0. 9. 0. 9. 0. 9. 0. 9. 0. 9. 0. 9. 0. 9.]\n",
      " [9. 0. 9. 0. 9. 0. 9. 0. 9. 0. 9. 0. 9. 0. 9. 0.]\n",
      " [0. 9. 0. 9. 0. 9. 0. 9. 0. 9. 0. 9. 0. 9. 0. 9.]\n",
      " [9. 0. 9. 0. 9. 0. 9. 0. 9. 0. 9. 0. 9. 0. 9. 0.]\n",
      " [0. 9. 0. 9. 0. 9. 0. 9. 0. 9. 0. 9. 0. 9. 0. 9.]\n",
      " [9. 0. 9. 0. 9. 0. 9. 0. 9. 0. 9. 0. 9. 0. 9. 0.]\n",
      " [0. 9. 0. 9. 0. 9. 0. 9. 0. 9. 0. 9. 0. 9. 0. 9.]]\n"
     ]
    }
   ],
   "source": [
    "matrix_zeros[0::2, ::2] = 9\n",
    "matrix_zeros[1::2, 1::2] = 9\n",
    "print(matrix_zeros)"
   ]
  },
  {
   "cell_type": "code",
   "execution_count": 5,
   "metadata": {},
   "outputs": [
    {
     "data": {
      "text/plain": [
       "array([0. , 0.5, 1. , 1.5, 2. , 2.5])"
      ]
     },
     "execution_count": 5,
     "metadata": {},
     "output_type": "execute_result"
    }
   ],
   "source": [
    "vec01 = np.arange(2.7, step=0.5,dtype='float')\n",
    "vec01"
   ]
  },
  {
   "cell_type": "code",
   "execution_count": 6,
   "metadata": {},
   "outputs": [
    {
     "name": "stdout",
     "output_type": "stream",
     "text": [
      "[1 2 3 4 5 6 7 8 9]\n"
     ]
    }
   ],
   "source": [
    "vec02 = np.arange(1, 10, dtype='int')\n",
    "print(vec02)"
   ]
  },
  {
   "cell_type": "code",
   "execution_count": 12,
   "metadata": {},
   "outputs": [
    {
     "name": "stdout",
     "output_type": "stream",
     "text": [
      "[[0.  0.5 1. ]\n",
      " [1.5 2.  2.5]]\n",
      "[[1 2 3]\n",
      " [4 5 6]\n",
      " [7 8 9]]\n"
     ]
    }
   ],
   "source": [
    "matrix_from_vec01 = vec01.reshape(2, 3)\n",
    "print(matrix_from_vec01)\n",
    "\n",
    "matrix_from_vec02 = vec02.reshape(3, 3)\n",
    "print(matrix_from_vec02)"
   ]
  },
  {
   "cell_type": "code",
   "execution_count": 14,
   "metadata": {},
   "outputs": [
    {
     "data": {
      "text/plain": [
       "array([[0. , 1.5],\n",
       "       [0.5, 2. ],\n",
       "       [1. , 2.5]])"
      ]
     },
     "execution_count": 14,
     "metadata": {},
     "output_type": "execute_result"
    }
   ],
   "source": [
    "tranpose_matrix = np.transpose(matrix_from_vec01)\n",
    "tranpose_matrix"
   ]
  },
  {
   "cell_type": "code",
   "execution_count": 46,
   "metadata": {},
   "outputs": [
    {
     "name": "stdout",
     "output_type": "stream",
     "text": [
      "[[0. ]\n",
      " [0.5]\n",
      " [1. ]\n",
      " [1.5]\n",
      " [2. ]\n",
      " [2.5]]\n",
      "(8, 8)\n",
      "(6, 1)\n",
      "[[0. ]\n",
      " [0.5]\n",
      " [1. ]\n",
      " [1.5]\n",
      " [2. ]\n",
      " [2.5]]\n",
      "[[0.  0.5 1.  1.5 2.  2.5]]\n"
     ]
    }
   ],
   "source": [
    "test = matrix_from_vec01.reshape(6, 1)\n",
    "print(test)\n",
    "print(test.strides)\n",
    "print(test.shape)\n",
    "\n",
    "tranpose = np.transpose(test, (0,1))\n",
    "tranpose_test = np.transpose(test, (1,0))\n",
    "print(tranpose)\n",
    "print(tranpose_test)\n",
    "# tranpose_matrix01 = np.transpose(matrix_from_vec01, (0, 1, 6))\n",
    "# tranpose_matrix01"
   ]
  },
  {
   "cell_type": "code",
   "execution_count": 9,
   "metadata": {},
   "outputs": [
    {
     "ename": "ValueError",
     "evalue": "operands could not be broadcast together with shapes (2,3) (3,3) ",
     "output_type": "error",
     "traceback": [
      "\u001b[1;31m---------------------------------------------------------------------------\u001b[0m",
      "\u001b[1;31mValueError\u001b[0m                                Traceback (most recent call last)",
      "Cell \u001b[1;32mIn[9], line 1\u001b[0m\n\u001b[1;32m----> 1\u001b[0m matrix_from_vec01 \u001b[39m+\u001b[39;49m matrix_from_vec02\n",
      "\u001b[1;31mValueError\u001b[0m: operands could not be broadcast together with shapes (2,3) (3,3) "
     ]
    }
   ],
   "source": [
    "matrix_from_vec01 + matrix_from_vec02"
   ]
  }
 ],
 "metadata": {
  "kernelspec": {
   "display_name": "Python 3",
   "language": "python",
   "name": "python3"
  },
  "language_info": {
   "codemirror_mode": {
    "name": "ipython",
    "version": 3
   },
   "file_extension": ".py",
   "mimetype": "text/x-python",
   "name": "python",
   "nbconvert_exporter": "python",
   "pygments_lexer": "ipython3",
   "version": "3.8.10"
  },
  "orig_nbformat": 4
 },
 "nbformat": 4,
 "nbformat_minor": 2
}
