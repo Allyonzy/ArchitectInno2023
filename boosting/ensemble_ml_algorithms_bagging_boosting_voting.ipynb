{
  "cells": [
    {
      "cell_type": "markdown",
      "id": "b7121993",
      "metadata": {
        "papermill": {
          "duration": 0.012859,
          "end_time": "2023-01-31T22:08:15.334526",
          "exception": false,
          "start_time": "2023-01-31T22:08:15.321667",
          "status": "completed"
        },
        "tags": [],
        "id": "b7121993"
      },
      "source": [
        "# Ансамблевые алгоритмы машинного обучения на Python с scikit-learn\n",
        "\n",
        "> Ансамбли могут повысить точность вашего набора данных.\n",
        "\n",
        "> В этой записной книжке вы узнаете, как можно создавать некоторые из самых мощных типов ансамблей в Python с помощью Scikit-Learn.\n",
        "\n",
        "# Объединять предсказания Модели в Ансамблевые Предсказания\n",
        "\n",
        "Тремя наиболее популярными методами объединения прогнозов из разных моделей являются:\n",
        "\n",
        "- **Bagging**. Построение нескольких моделей (обычно одного типа) из разных подвыборок обучающего набора данных.\n",
        "- **Boosting**. Построение нескольких моделей (обычно одного типа), каждая из которых учится исправлять ошибки прогнозирования предыдущей модели в цепочке.\n",
        "- **Voting**. Для объединения прогнозов используется построение нескольких\n",
        "\n",
        "*   Новый пункт\n",
        "*   Новый пункт\n",
        "\n",
        "моделей (обычно разных типов) и простая статистика (например, вычисление среднего значения).\n",
        "\n",
        "***\n",
        "\n",
        "Стандартной задачей классификации, используемой для демонстрации каждого алгоритма ансамбля, является набор данных о начале диабета у индейцев Пима. Это задача бинарной классификации, в которой все входные переменные являются числовыми и имеют разные масштабы.\n",
        "***"
      ]
    },
    {
      "cell_type": "markdown",
      "id": "d444535f",
      "metadata": {
        "papermill": {
          "duration": 0.01058,
          "end_time": "2023-01-31T22:08:15.356308",
          "exception": false,
          "start_time": "2023-01-31T22:08:15.345728",
          "status": "completed"
        },
        "tags": [],
        "id": "d444535f"
      },
      "source": [
        "## Импорт библиотек"
      ]
    },
    {
      "cell_type": "code",
      "execution_count": null,
      "id": "c9448b34",
      "metadata": {
        "execution": {
          "iopub.execute_input": "2023-01-31T22:08:15.381230Z",
          "iopub.status.busy": "2023-01-31T22:08:15.380541Z",
          "iopub.status.idle": "2023-01-31T22:08:16.506870Z",
          "shell.execute_reply": "2023-01-31T22:08:16.505696Z"
        },
        "papermill": {
          "duration": 1.14256,
          "end_time": "2023-01-31T22:08:16.509900",
          "exception": false,
          "start_time": "2023-01-31T22:08:15.367340",
          "status": "completed"
        },
        "tags": [],
        "id": "c9448b34"
      },
      "outputs": [],
      "source": [
        "import pandas as pd\n",
        "import numpy as np\n",
        "import matplotlib.pyplot as plt\n",
        "import seaborn as sns\n",
        "\n",
        "%matplotlib inline\n",
        "sns.set_style(\"whitegrid\")\n",
        "plt.style.use(\"fivethirtyeight\")"
      ]
    },
    {
      "cell_type": "markdown",
      "id": "6465409f",
      "metadata": {
        "papermill": {
          "duration": 0.010143,
          "end_time": "2023-01-31T22:08:16.531128",
          "exception": false,
          "start_time": "2023-01-31T22:08:16.520985",
          "status": "completed"
        },
        "tags": [],
        "id": "6465409f"
      },
      "source": [
        "## Загрузка данных"
      ]
    },
    {
      "cell_type": "code",
      "source": [
        "!pip install kaggle # переустановка kaggle библиотеки"
      ],
      "metadata": {
        "colab": {
          "base_uri": "https://localhost:8080/"
        },
        "id": "X03RmXt73Xfm",
        "outputId": "0bc1848b-ae59-44fb-8688-86537bb24ab9"
      },
      "id": "X03RmXt73Xfm",
      "execution_count": null,
      "outputs": [
        {
          "output_type": "stream",
          "name": "stdout",
          "text": [
            "Requirement already satisfied: kaggle in /usr/local/lib/python3.10/dist-packages (1.5.16)\n",
            "Requirement already satisfied: six>=1.10 in /usr/local/lib/python3.10/dist-packages (from kaggle) (1.16.0)\n",
            "Requirement already satisfied: certifi in /usr/local/lib/python3.10/dist-packages (from kaggle) (2023.7.22)\n",
            "Requirement already satisfied: python-dateutil in /usr/local/lib/python3.10/dist-packages (from kaggle) (2.8.2)\n",
            "Requirement already satisfied: requests in /usr/local/lib/python3.10/dist-packages (from kaggle) (2.31.0)\n",
            "Requirement already satisfied: tqdm in /usr/local/lib/python3.10/dist-packages (from kaggle) (4.66.1)\n",
            "Requirement already satisfied: python-slugify in /usr/local/lib/python3.10/dist-packages (from kaggle) (8.0.1)\n",
            "Requirement already satisfied: urllib3 in /usr/local/lib/python3.10/dist-packages (from kaggle) (2.0.4)\n",
            "Requirement already satisfied: bleach in /usr/local/lib/python3.10/dist-packages (from kaggle) (6.0.0)\n",
            "Requirement already satisfied: webencodings in /usr/local/lib/python3.10/dist-packages (from bleach->kaggle) (0.5.1)\n",
            "Requirement already satisfied: text-unidecode>=1.3 in /usr/local/lib/python3.10/dist-packages (from python-slugify->kaggle) (1.3)\n",
            "Requirement already satisfied: charset-normalizer<4,>=2 in /usr/local/lib/python3.10/dist-packages (from requests->kaggle) (3.2.0)\n",
            "Requirement already satisfied: idna<4,>=2.5 in /usr/local/lib/python3.10/dist-packages (from requests->kaggle) (3.4)\n"
          ]
        }
      ]
    },
    {
      "cell_type": "code",
      "source": [
        "!mkdir -p ~/.kaggle/ # создать .kaggle папку на диске"
      ],
      "metadata": {
        "id": "qCPk0HFq3YnU"
      },
      "id": "qCPk0HFq3YnU",
      "execution_count": null,
      "outputs": []
    },
    {
      "cell_type": "code",
      "source": [
        "!gdown --id 1t-mnytI2dPwnSiMico5PqSJFskhX5r_g # загрузка файла с диска\n",
        "\n",
        "# https://drive.google.com/file/d/1t-mnytI2dPwnSiMico5PqSJFskhX5r_g/view?usp=sharing\n"
      ],
      "metadata": {
        "colab": {
          "base_uri": "https://localhost:8080/"
        },
        "id": "FParRK6k316j",
        "outputId": "f2e4d973-a329-4d95-dcfb-49e6c6f05072"
      },
      "id": "FParRK6k316j",
      "execution_count": null,
      "outputs": [
        {
          "output_type": "stream",
          "name": "stdout",
          "text": [
            "/usr/local/lib/python3.10/dist-packages/gdown/cli.py:121: FutureWarning: Option `--id` was deprecated in version 4.3.1 and will be removed in 5.0. You don't need to pass it anymore to use a file ID.\n",
            "  warnings.warn(\n",
            "Downloading...\n",
            "From: https://drive.google.com/uc?id=1t-mnytI2dPwnSiMico5PqSJFskhX5r_g\n",
            "To: /content/kaggle.json\n",
            "100% 63.0/63.0 [00:00<00:00, 271kB/s]\n"
          ]
        }
      ]
    },
    {
      "cell_type": "code",
      "source": [
        "!cp /content/kaggle.json ~/.kaggle"
      ],
      "metadata": {
        "id": "QbeTJ3QU3fPV"
      },
      "id": "QbeTJ3QU3fPV",
      "execution_count": null,
      "outputs": []
    },
    {
      "cell_type": "code",
      "source": [
        "!chmod 600 /root/.kaggle/kaggle.json"
      ],
      "metadata": {
        "id": "qny3sOztD2tR"
      },
      "id": "qny3sOztD2tR",
      "execution_count": null,
      "outputs": []
    },
    {
      "cell_type": "code",
      "source": [
        "!kaggle datasets download -d uciml/pima-indians-diabetes-database #обычные датасеты"
      ],
      "metadata": {
        "colab": {
          "base_uri": "https://localhost:8080/"
        },
        "id": "hpwkPIkV4LmN",
        "outputId": "22a301c3-95fe-434c-e613-7f88e61a445e"
      },
      "id": "hpwkPIkV4LmN",
      "execution_count": null,
      "outputs": [
        {
          "output_type": "stream",
          "name": "stdout",
          "text": [
            "Downloading pima-indians-diabetes-database.zip to /content\n",
            "\r  0% 0.00/8.91k [00:00<?, ?B/s]\n",
            "\r100% 8.91k/8.91k [00:00<00:00, 16.9MB/s]\n"
          ]
        }
      ]
    },
    {
      "cell_type": "code",
      "source": [
        "!kaggle competitions download -c playground-series-s3e11 #датасет соревнования"
      ],
      "metadata": {
        "colab": {
          "base_uri": "https://localhost:8080/"
        },
        "id": "gIS5Fso2E78g",
        "outputId": "affd2279-853e-489e-a9e9-6f0598d375bb"
      },
      "id": "gIS5Fso2E78g",
      "execution_count": null,
      "outputs": [
        {
          "output_type": "stream",
          "name": "stdout",
          "text": [
            "Downloading playground-series-s3e11.zip to /content\n",
            "\r  0% 0.00/9.00M [00:00<?, ?B/s]\n",
            "\r100% 9.00M/9.00M [00:00<00:00, 96.0MB/s]\n"
          ]
        }
      ]
    },
    {
      "cell_type": "code",
      "source": [
        "!ls # список временных файлов в content"
      ],
      "metadata": {
        "colab": {
          "base_uri": "https://localhost:8080/"
        },
        "id": "DDgi5jBv4W8r",
        "outputId": "3becb240-502d-4cbf-a8e0-af11dbefbee5"
      },
      "id": "DDgi5jBv4W8r",
      "execution_count": null,
      "outputs": [
        {
          "output_type": "stream",
          "name": "stdout",
          "text": [
            "kaggle.json\t\t\t    playground-series-s3e11.zip\n",
            "pima-indians-diabetes-database.zip  sample_data\n"
          ]
        }
      ]
    },
    {
      "cell_type": "code",
      "source": [
        "!unzip pima-indians-diabetes-database.zip"
      ],
      "metadata": {
        "colab": {
          "base_uri": "https://localhost:8080/"
        },
        "id": "I551fYBa4aCi",
        "outputId": "20eb225c-2201-47ab-f275-d03de9b42a1c"
      },
      "id": "I551fYBa4aCi",
      "execution_count": null,
      "outputs": [
        {
          "output_type": "stream",
          "name": "stdout",
          "text": [
            "Archive:  pima-indians-diabetes-database.zip\n",
            "  inflating: diabetes.csv            \n"
          ]
        }
      ]
    },
    {
      "cell_type": "code",
      "source": [
        "!unzip playground-series-s3e11.zip"
      ],
      "metadata": {
        "colab": {
          "base_uri": "https://localhost:8080/"
        },
        "id": "97_O_85YFiMp",
        "outputId": "0f2cbf06-696d-4891-9046-b33ff9687f72"
      },
      "id": "97_O_85YFiMp",
      "execution_count": null,
      "outputs": [
        {
          "output_type": "stream",
          "name": "stdout",
          "text": [
            "Archive:  playground-series-s3e11.zip\n",
            "  inflating: sample_submission.csv   \n",
            "  inflating: test.csv                \n",
            "  inflating: train.csv               \n"
          ]
        }
      ]
    },
    {
      "cell_type": "code",
      "execution_count": null,
      "id": "1248c496",
      "metadata": {
        "execution": {
          "iopub.execute_input": "2023-01-31T22:08:16.557964Z",
          "iopub.status.busy": "2023-01-31T22:08:16.557545Z",
          "iopub.status.idle": "2023-01-31T22:08:16.602408Z",
          "shell.execute_reply": "2023-01-31T22:08:16.601106Z"
        },
        "papermill": {
          "duration": 0.063101,
          "end_time": "2023-01-31T22:08:16.605656",
          "exception": false,
          "start_time": "2023-01-31T22:08:16.542555",
          "status": "completed"
        },
        "tags": [],
        "colab": {
          "base_uri": "https://localhost:8080/",
          "height": 243
        },
        "id": "1248c496",
        "outputId": "5e768ec8-8b40-42fb-a9e4-b9c9aa800a1e"
      },
      "outputs": [
        {
          "output_type": "execute_result",
          "data": {
            "text/plain": [
              "   id  store_sales(in millions)  unit_sales(in millions)  total_children  \\\n",
              "0   0                      8.61                      3.0             2.0   \n",
              "1   1                      5.00                      2.0             4.0   \n",
              "2   2                     14.08                      4.0             0.0   \n",
              "3   3                      4.02                      3.0             5.0   \n",
              "4   4                      2.13                      3.0             5.0   \n",
              "\n",
              "   num_children_at_home  avg_cars_at home(approx).1  gross_weight  \\\n",
              "0                   2.0                         2.0         10.30   \n",
              "1                   0.0                         3.0          6.66   \n",
              "2                   0.0                         3.0         21.30   \n",
              "3                   0.0                         0.0         14.80   \n",
              "4                   0.0                         3.0         17.00   \n",
              "\n",
              "   recyclable_package  low_fat  units_per_case  store_sqft  coffee_bar  \\\n",
              "0                 1.0      0.0            32.0     36509.0         0.0   \n",
              "1                 1.0      0.0             1.0     28206.0         1.0   \n",
              "2                 1.0      0.0            26.0     21215.0         1.0   \n",
              "3                 0.0      1.0            36.0     21215.0         1.0   \n",
              "4                 1.0      1.0            20.0     27694.0         1.0   \n",
              "\n",
              "   video_store  salad_bar  prepared_food  florist    cost  \n",
              "0          0.0        0.0            0.0      0.0   62.09  \n",
              "1          0.0        0.0            0.0      0.0  121.80  \n",
              "2          0.0        0.0            0.0      0.0   83.51  \n",
              "3          0.0        0.0            0.0      0.0   66.78  \n",
              "4          1.0        1.0            1.0      1.0  111.51  "
            ],
            "text/html": [
              "\n",
              "  <div id=\"df-dc930a68-1b78-4d1b-b9e0-9e8421c295cd\" class=\"colab-df-container\">\n",
              "    <div>\n",
              "<style scoped>\n",
              "    .dataframe tbody tr th:only-of-type {\n",
              "        vertical-align: middle;\n",
              "    }\n",
              "\n",
              "    .dataframe tbody tr th {\n",
              "        vertical-align: top;\n",
              "    }\n",
              "\n",
              "    .dataframe thead th {\n",
              "        text-align: right;\n",
              "    }\n",
              "</style>\n",
              "<table border=\"1\" class=\"dataframe\">\n",
              "  <thead>\n",
              "    <tr style=\"text-align: right;\">\n",
              "      <th></th>\n",
              "      <th>id</th>\n",
              "      <th>store_sales(in millions)</th>\n",
              "      <th>unit_sales(in millions)</th>\n",
              "      <th>total_children</th>\n",
              "      <th>num_children_at_home</th>\n",
              "      <th>avg_cars_at home(approx).1</th>\n",
              "      <th>gross_weight</th>\n",
              "      <th>recyclable_package</th>\n",
              "      <th>low_fat</th>\n",
              "      <th>units_per_case</th>\n",
              "      <th>store_sqft</th>\n",
              "      <th>coffee_bar</th>\n",
              "      <th>video_store</th>\n",
              "      <th>salad_bar</th>\n",
              "      <th>prepared_food</th>\n",
              "      <th>florist</th>\n",
              "      <th>cost</th>\n",
              "    </tr>\n",
              "  </thead>\n",
              "  <tbody>\n",
              "    <tr>\n",
              "      <th>0</th>\n",
              "      <td>0</td>\n",
              "      <td>8.61</td>\n",
              "      <td>3.0</td>\n",
              "      <td>2.0</td>\n",
              "      <td>2.0</td>\n",
              "      <td>2.0</td>\n",
              "      <td>10.30</td>\n",
              "      <td>1.0</td>\n",
              "      <td>0.0</td>\n",
              "      <td>32.0</td>\n",
              "      <td>36509.0</td>\n",
              "      <td>0.0</td>\n",
              "      <td>0.0</td>\n",
              "      <td>0.0</td>\n",
              "      <td>0.0</td>\n",
              "      <td>0.0</td>\n",
              "      <td>62.09</td>\n",
              "    </tr>\n",
              "    <tr>\n",
              "      <th>1</th>\n",
              "      <td>1</td>\n",
              "      <td>5.00</td>\n",
              "      <td>2.0</td>\n",
              "      <td>4.0</td>\n",
              "      <td>0.0</td>\n",
              "      <td>3.0</td>\n",
              "      <td>6.66</td>\n",
              "      <td>1.0</td>\n",
              "      <td>0.0</td>\n",
              "      <td>1.0</td>\n",
              "      <td>28206.0</td>\n",
              "      <td>1.0</td>\n",
              "      <td>0.0</td>\n",
              "      <td>0.0</td>\n",
              "      <td>0.0</td>\n",
              "      <td>0.0</td>\n",
              "      <td>121.80</td>\n",
              "    </tr>\n",
              "    <tr>\n",
              "      <th>2</th>\n",
              "      <td>2</td>\n",
              "      <td>14.08</td>\n",
              "      <td>4.0</td>\n",
              "      <td>0.0</td>\n",
              "      <td>0.0</td>\n",
              "      <td>3.0</td>\n",
              "      <td>21.30</td>\n",
              "      <td>1.0</td>\n",
              "      <td>0.0</td>\n",
              "      <td>26.0</td>\n",
              "      <td>21215.0</td>\n",
              "      <td>1.0</td>\n",
              "      <td>0.0</td>\n",
              "      <td>0.0</td>\n",
              "      <td>0.0</td>\n",
              "      <td>0.0</td>\n",
              "      <td>83.51</td>\n",
              "    </tr>\n",
              "    <tr>\n",
              "      <th>3</th>\n",
              "      <td>3</td>\n",
              "      <td>4.02</td>\n",
              "      <td>3.0</td>\n",
              "      <td>5.0</td>\n",
              "      <td>0.0</td>\n",
              "      <td>0.0</td>\n",
              "      <td>14.80</td>\n",
              "      <td>0.0</td>\n",
              "      <td>1.0</td>\n",
              "      <td>36.0</td>\n",
              "      <td>21215.0</td>\n",
              "      <td>1.0</td>\n",
              "      <td>0.0</td>\n",
              "      <td>0.0</td>\n",
              "      <td>0.0</td>\n",
              "      <td>0.0</td>\n",
              "      <td>66.78</td>\n",
              "    </tr>\n",
              "    <tr>\n",
              "      <th>4</th>\n",
              "      <td>4</td>\n",
              "      <td>2.13</td>\n",
              "      <td>3.0</td>\n",
              "      <td>5.0</td>\n",
              "      <td>0.0</td>\n",
              "      <td>3.0</td>\n",
              "      <td>17.00</td>\n",
              "      <td>1.0</td>\n",
              "      <td>1.0</td>\n",
              "      <td>20.0</td>\n",
              "      <td>27694.0</td>\n",
              "      <td>1.0</td>\n",
              "      <td>1.0</td>\n",
              "      <td>1.0</td>\n",
              "      <td>1.0</td>\n",
              "      <td>1.0</td>\n",
              "      <td>111.51</td>\n",
              "    </tr>\n",
              "  </tbody>\n",
              "</table>\n",
              "</div>\n",
              "    <div class=\"colab-df-buttons\">\n",
              "\n",
              "  <div class=\"colab-df-container\">\n",
              "    <button class=\"colab-df-convert\" onclick=\"convertToInteractive('df-dc930a68-1b78-4d1b-b9e0-9e8421c295cd')\"\n",
              "            title=\"Convert this dataframe to an interactive table.\"\n",
              "            style=\"display:none;\">\n",
              "\n",
              "  <svg xmlns=\"http://www.w3.org/2000/svg\" height=\"24px\" viewBox=\"0 -960 960 960\">\n",
              "    <path d=\"M120-120v-720h720v720H120Zm60-500h600v-160H180v160Zm220 220h160v-160H400v160Zm0 220h160v-160H400v160ZM180-400h160v-160H180v160Zm440 0h160v-160H620v160ZM180-180h160v-160H180v160Zm440 0h160v-160H620v160Z\"/>\n",
              "  </svg>\n",
              "    </button>\n",
              "\n",
              "  <style>\n",
              "    .colab-df-container {\n",
              "      display:flex;\n",
              "      gap: 12px;\n",
              "    }\n",
              "\n",
              "    .colab-df-convert {\n",
              "      background-color: #E8F0FE;\n",
              "      border: none;\n",
              "      border-radius: 50%;\n",
              "      cursor: pointer;\n",
              "      display: none;\n",
              "      fill: #1967D2;\n",
              "      height: 32px;\n",
              "      padding: 0 0 0 0;\n",
              "      width: 32px;\n",
              "    }\n",
              "\n",
              "    .colab-df-convert:hover {\n",
              "      background-color: #E2EBFA;\n",
              "      box-shadow: 0px 1px 2px rgba(60, 64, 67, 0.3), 0px 1px 3px 1px rgba(60, 64, 67, 0.15);\n",
              "      fill: #174EA6;\n",
              "    }\n",
              "\n",
              "    .colab-df-buttons div {\n",
              "      margin-bottom: 4px;\n",
              "    }\n",
              "\n",
              "    [theme=dark] .colab-df-convert {\n",
              "      background-color: #3B4455;\n",
              "      fill: #D2E3FC;\n",
              "    }\n",
              "\n",
              "    [theme=dark] .colab-df-convert:hover {\n",
              "      background-color: #434B5C;\n",
              "      box-shadow: 0px 1px 3px 1px rgba(0, 0, 0, 0.15);\n",
              "      filter: drop-shadow(0px 1px 2px rgba(0, 0, 0, 0.3));\n",
              "      fill: #FFFFFF;\n",
              "    }\n",
              "  </style>\n",
              "\n",
              "    <script>\n",
              "      const buttonEl =\n",
              "        document.querySelector('#df-dc930a68-1b78-4d1b-b9e0-9e8421c295cd button.colab-df-convert');\n",
              "      buttonEl.style.display =\n",
              "        google.colab.kernel.accessAllowed ? 'block' : 'none';\n",
              "\n",
              "      async function convertToInteractive(key) {\n",
              "        const element = document.querySelector('#df-dc930a68-1b78-4d1b-b9e0-9e8421c295cd');\n",
              "        const dataTable =\n",
              "          await google.colab.kernel.invokeFunction('convertToInteractive',\n",
              "                                                    [key], {});\n",
              "        if (!dataTable) return;\n",
              "\n",
              "        const docLinkHtml = 'Like what you see? Visit the ' +\n",
              "          '<a target=\"_blank\" href=https://colab.research.google.com/notebooks/data_table.ipynb>data table notebook</a>'\n",
              "          + ' to learn more about interactive tables.';\n",
              "        element.innerHTML = '';\n",
              "        dataTable['output_type'] = 'display_data';\n",
              "        await google.colab.output.renderOutput(dataTable, element);\n",
              "        const docLink = document.createElement('div');\n",
              "        docLink.innerHTML = docLinkHtml;\n",
              "        element.appendChild(docLink);\n",
              "      }\n",
              "    </script>\n",
              "  </div>\n",
              "\n",
              "\n",
              "<div id=\"df-ea0484f2-94b1-4855-b3bc-610693900a3d\">\n",
              "  <button class=\"colab-df-quickchart\" onclick=\"quickchart('df-ea0484f2-94b1-4855-b3bc-610693900a3d')\"\n",
              "            title=\"Suggest charts.\"\n",
              "            style=\"display:none;\">\n",
              "\n",
              "<svg xmlns=\"http://www.w3.org/2000/svg\" height=\"24px\"viewBox=\"0 0 24 24\"\n",
              "     width=\"24px\">\n",
              "    <g>\n",
              "        <path d=\"M19 3H5c-1.1 0-2 .9-2 2v14c0 1.1.9 2 2 2h14c1.1 0 2-.9 2-2V5c0-1.1-.9-2-2-2zM9 17H7v-7h2v7zm4 0h-2V7h2v10zm4 0h-2v-4h2v4z\"/>\n",
              "    </g>\n",
              "</svg>\n",
              "  </button>\n",
              "\n",
              "<style>\n",
              "  .colab-df-quickchart {\n",
              "    background-color: #E8F0FE;\n",
              "    border: none;\n",
              "    border-radius: 50%;\n",
              "    cursor: pointer;\n",
              "    display: none;\n",
              "    fill: #1967D2;\n",
              "    height: 32px;\n",
              "    padding: 0 0 0 0;\n",
              "    width: 32px;\n",
              "  }\n",
              "\n",
              "  .colab-df-quickchart:hover {\n",
              "    background-color: #E2EBFA;\n",
              "    box-shadow: 0px 1px 2px rgba(60, 64, 67, 0.3), 0px 1px 3px 1px rgba(60, 64, 67, 0.15);\n",
              "    fill: #174EA6;\n",
              "  }\n",
              "\n",
              "  [theme=dark] .colab-df-quickchart {\n",
              "    background-color: #3B4455;\n",
              "    fill: #D2E3FC;\n",
              "  }\n",
              "\n",
              "  [theme=dark] .colab-df-quickchart:hover {\n",
              "    background-color: #434B5C;\n",
              "    box-shadow: 0px 1px 3px 1px rgba(0, 0, 0, 0.15);\n",
              "    filter: drop-shadow(0px 1px 2px rgba(0, 0, 0, 0.3));\n",
              "    fill: #FFFFFF;\n",
              "  }\n",
              "</style>\n",
              "\n",
              "  <script>\n",
              "    async function quickchart(key) {\n",
              "      const charts = await google.colab.kernel.invokeFunction(\n",
              "          'suggestCharts', [key], {});\n",
              "    }\n",
              "    (() => {\n",
              "      let quickchartButtonEl =\n",
              "        document.querySelector('#df-ea0484f2-94b1-4855-b3bc-610693900a3d button');\n",
              "      quickchartButtonEl.style.display =\n",
              "        google.colab.kernel.accessAllowed ? 'block' : 'none';\n",
              "    })();\n",
              "  </script>\n",
              "</div>\n",
              "    </div>\n",
              "  </div>\n"
            ]
          },
          "metadata": {},
          "execution_count": 12
        }
      ],
      "source": [
        "df_compet_trees = pd.read_csv(\"train.csv\")\n",
        "df_compet_trees.head()\n",
        "\n",
        "#Построить регрессоры\n",
        "# Для решения классификации сделать из cost классы"
      ]
    },
    {
      "cell_type": "code",
      "source": [
        "df_compet_trees.describe().T"
      ],
      "metadata": {
        "colab": {
          "base_uri": "https://localhost:8080/",
          "height": 582
        },
        "id": "HtpyzJeHZZcq",
        "outputId": "47f41366-a166-42ad-8599-fcaf3e3ae756"
      },
      "id": "HtpyzJeHZZcq",
      "execution_count": null,
      "outputs": [
        {
          "output_type": "execute_result",
          "data": {
            "text/plain": [
              "                               count           mean            std       min  \\\n",
              "id                          360336.0  180167.500000  104020.187637      0.00   \n",
              "store_sales(in millions)    360336.0       6.337376       3.307980      0.51   \n",
              "unit_sales(in millions)     360336.0       3.043881       0.784676      1.00   \n",
              "total_children              360336.0       2.456482       1.488992      0.00   \n",
              "num_children_at_home        360336.0       0.689390       1.214732      0.00   \n",
              "avg_cars_at home(approx).1  360336.0       2.203813       1.084293      0.00   \n",
              "gross_weight                360336.0      13.822071       4.614792      6.00   \n",
              "recyclable_package          360336.0       0.568086       0.495343      0.00   \n",
              "low_fat                     360336.0       0.327797       0.469411      0.00   \n",
              "units_per_case              360336.0      18.972706      10.212912      1.00   \n",
              "store_sqft                  360336.0   28180.333442    5968.874074  20319.00   \n",
              "coffee_bar                  360336.0       0.564839       0.495779      0.00   \n",
              "video_store                 360336.0       0.277394       0.447713      0.00   \n",
              "salad_bar                   360336.0       0.504807       0.499978      0.00   \n",
              "prepared_food               360336.0       0.504832       0.499977      0.00   \n",
              "florist                     360336.0       0.503191       0.499991      0.00   \n",
              "cost                        360336.0      99.614729      29.939435     50.79   \n",
              "\n",
              "                                 25%        50%        75%        max  \n",
              "id                          90083.75  180167.50  270251.25  360335.00  \n",
              "store_sales(in millions)        3.72       5.78       8.40      22.92  \n",
              "unit_sales(in millions)         3.00       3.00       4.00       6.00  \n",
              "total_children                  1.00       2.00       4.00       5.00  \n",
              "num_children_at_home            0.00       0.00       1.00       5.00  \n",
              "avg_cars_at home(approx).1      1.00       2.00       3.00       4.00  \n",
              "gross_weight                    9.71      13.60      17.70      21.90  \n",
              "recyclable_package              0.00       1.00       1.00       1.00  \n",
              "low_fat                         0.00       0.00       1.00       1.00  \n",
              "units_per_case                 10.00      20.00      28.00      36.00  \n",
              "store_sqft                  23593.00   27694.00   33858.00   39696.00  \n",
              "coffee_bar                      0.00       1.00       1.00       1.00  \n",
              "video_store                     0.00       0.00       1.00       1.00  \n",
              "salad_bar                       0.00       1.00       1.00       1.00  \n",
              "prepared_food                   0.00       1.00       1.00       1.00  \n",
              "florist                         0.00       1.00       1.00       1.00  \n",
              "cost                           70.32      98.81     126.62     149.75  "
            ],
            "text/html": [
              "\n",
              "  <div id=\"df-431f6445-cb03-40a9-b87c-716a4eddba2b\" class=\"colab-df-container\">\n",
              "    <div>\n",
              "<style scoped>\n",
              "    .dataframe tbody tr th:only-of-type {\n",
              "        vertical-align: middle;\n",
              "    }\n",
              "\n",
              "    .dataframe tbody tr th {\n",
              "        vertical-align: top;\n",
              "    }\n",
              "\n",
              "    .dataframe thead th {\n",
              "        text-align: right;\n",
              "    }\n",
              "</style>\n",
              "<table border=\"1\" class=\"dataframe\">\n",
              "  <thead>\n",
              "    <tr style=\"text-align: right;\">\n",
              "      <th></th>\n",
              "      <th>count</th>\n",
              "      <th>mean</th>\n",
              "      <th>std</th>\n",
              "      <th>min</th>\n",
              "      <th>25%</th>\n",
              "      <th>50%</th>\n",
              "      <th>75%</th>\n",
              "      <th>max</th>\n",
              "    </tr>\n",
              "  </thead>\n",
              "  <tbody>\n",
              "    <tr>\n",
              "      <th>id</th>\n",
              "      <td>360336.0</td>\n",
              "      <td>180167.500000</td>\n",
              "      <td>104020.187637</td>\n",
              "      <td>0.00</td>\n",
              "      <td>90083.75</td>\n",
              "      <td>180167.50</td>\n",
              "      <td>270251.25</td>\n",
              "      <td>360335.00</td>\n",
              "    </tr>\n",
              "    <tr>\n",
              "      <th>store_sales(in millions)</th>\n",
              "      <td>360336.0</td>\n",
              "      <td>6.337376</td>\n",
              "      <td>3.307980</td>\n",
              "      <td>0.51</td>\n",
              "      <td>3.72</td>\n",
              "      <td>5.78</td>\n",
              "      <td>8.40</td>\n",
              "      <td>22.92</td>\n",
              "    </tr>\n",
              "    <tr>\n",
              "      <th>unit_sales(in millions)</th>\n",
              "      <td>360336.0</td>\n",
              "      <td>3.043881</td>\n",
              "      <td>0.784676</td>\n",
              "      <td>1.00</td>\n",
              "      <td>3.00</td>\n",
              "      <td>3.00</td>\n",
              "      <td>4.00</td>\n",
              "      <td>6.00</td>\n",
              "    </tr>\n",
              "    <tr>\n",
              "      <th>total_children</th>\n",
              "      <td>360336.0</td>\n",
              "      <td>2.456482</td>\n",
              "      <td>1.488992</td>\n",
              "      <td>0.00</td>\n",
              "      <td>1.00</td>\n",
              "      <td>2.00</td>\n",
              "      <td>4.00</td>\n",
              "      <td>5.00</td>\n",
              "    </tr>\n",
              "    <tr>\n",
              "      <th>num_children_at_home</th>\n",
              "      <td>360336.0</td>\n",
              "      <td>0.689390</td>\n",
              "      <td>1.214732</td>\n",
              "      <td>0.00</td>\n",
              "      <td>0.00</td>\n",
              "      <td>0.00</td>\n",
              "      <td>1.00</td>\n",
              "      <td>5.00</td>\n",
              "    </tr>\n",
              "    <tr>\n",
              "      <th>avg_cars_at home(approx).1</th>\n",
              "      <td>360336.0</td>\n",
              "      <td>2.203813</td>\n",
              "      <td>1.084293</td>\n",
              "      <td>0.00</td>\n",
              "      <td>1.00</td>\n",
              "      <td>2.00</td>\n",
              "      <td>3.00</td>\n",
              "      <td>4.00</td>\n",
              "    </tr>\n",
              "    <tr>\n",
              "      <th>gross_weight</th>\n",
              "      <td>360336.0</td>\n",
              "      <td>13.822071</td>\n",
              "      <td>4.614792</td>\n",
              "      <td>6.00</td>\n",
              "      <td>9.71</td>\n",
              "      <td>13.60</td>\n",
              "      <td>17.70</td>\n",
              "      <td>21.90</td>\n",
              "    </tr>\n",
              "    <tr>\n",
              "      <th>recyclable_package</th>\n",
              "      <td>360336.0</td>\n",
              "      <td>0.568086</td>\n",
              "      <td>0.495343</td>\n",
              "      <td>0.00</td>\n",
              "      <td>0.00</td>\n",
              "      <td>1.00</td>\n",
              "      <td>1.00</td>\n",
              "      <td>1.00</td>\n",
              "    </tr>\n",
              "    <tr>\n",
              "      <th>low_fat</th>\n",
              "      <td>360336.0</td>\n",
              "      <td>0.327797</td>\n",
              "      <td>0.469411</td>\n",
              "      <td>0.00</td>\n",
              "      <td>0.00</td>\n",
              "      <td>0.00</td>\n",
              "      <td>1.00</td>\n",
              "      <td>1.00</td>\n",
              "    </tr>\n",
              "    <tr>\n",
              "      <th>units_per_case</th>\n",
              "      <td>360336.0</td>\n",
              "      <td>18.972706</td>\n",
              "      <td>10.212912</td>\n",
              "      <td>1.00</td>\n",
              "      <td>10.00</td>\n",
              "      <td>20.00</td>\n",
              "      <td>28.00</td>\n",
              "      <td>36.00</td>\n",
              "    </tr>\n",
              "    <tr>\n",
              "      <th>store_sqft</th>\n",
              "      <td>360336.0</td>\n",
              "      <td>28180.333442</td>\n",
              "      <td>5968.874074</td>\n",
              "      <td>20319.00</td>\n",
              "      <td>23593.00</td>\n",
              "      <td>27694.00</td>\n",
              "      <td>33858.00</td>\n",
              "      <td>39696.00</td>\n",
              "    </tr>\n",
              "    <tr>\n",
              "      <th>coffee_bar</th>\n",
              "      <td>360336.0</td>\n",
              "      <td>0.564839</td>\n",
              "      <td>0.495779</td>\n",
              "      <td>0.00</td>\n",
              "      <td>0.00</td>\n",
              "      <td>1.00</td>\n",
              "      <td>1.00</td>\n",
              "      <td>1.00</td>\n",
              "    </tr>\n",
              "    <tr>\n",
              "      <th>video_store</th>\n",
              "      <td>360336.0</td>\n",
              "      <td>0.277394</td>\n",
              "      <td>0.447713</td>\n",
              "      <td>0.00</td>\n",
              "      <td>0.00</td>\n",
              "      <td>0.00</td>\n",
              "      <td>1.00</td>\n",
              "      <td>1.00</td>\n",
              "    </tr>\n",
              "    <tr>\n",
              "      <th>salad_bar</th>\n",
              "      <td>360336.0</td>\n",
              "      <td>0.504807</td>\n",
              "      <td>0.499978</td>\n",
              "      <td>0.00</td>\n",
              "      <td>0.00</td>\n",
              "      <td>1.00</td>\n",
              "      <td>1.00</td>\n",
              "      <td>1.00</td>\n",
              "    </tr>\n",
              "    <tr>\n",
              "      <th>prepared_food</th>\n",
              "      <td>360336.0</td>\n",
              "      <td>0.504832</td>\n",
              "      <td>0.499977</td>\n",
              "      <td>0.00</td>\n",
              "      <td>0.00</td>\n",
              "      <td>1.00</td>\n",
              "      <td>1.00</td>\n",
              "      <td>1.00</td>\n",
              "    </tr>\n",
              "    <tr>\n",
              "      <th>florist</th>\n",
              "      <td>360336.0</td>\n",
              "      <td>0.503191</td>\n",
              "      <td>0.499991</td>\n",
              "      <td>0.00</td>\n",
              "      <td>0.00</td>\n",
              "      <td>1.00</td>\n",
              "      <td>1.00</td>\n",
              "      <td>1.00</td>\n",
              "    </tr>\n",
              "    <tr>\n",
              "      <th>cost</th>\n",
              "      <td>360336.0</td>\n",
              "      <td>99.614729</td>\n",
              "      <td>29.939435</td>\n",
              "      <td>50.79</td>\n",
              "      <td>70.32</td>\n",
              "      <td>98.81</td>\n",
              "      <td>126.62</td>\n",
              "      <td>149.75</td>\n",
              "    </tr>\n",
              "  </tbody>\n",
              "</table>\n",
              "</div>\n",
              "    <div class=\"colab-df-buttons\">\n",
              "\n",
              "  <div class=\"colab-df-container\">\n",
              "    <button class=\"colab-df-convert\" onclick=\"convertToInteractive('df-431f6445-cb03-40a9-b87c-716a4eddba2b')\"\n",
              "            title=\"Convert this dataframe to an interactive table.\"\n",
              "            style=\"display:none;\">\n",
              "\n",
              "  <svg xmlns=\"http://www.w3.org/2000/svg\" height=\"24px\" viewBox=\"0 -960 960 960\">\n",
              "    <path d=\"M120-120v-720h720v720H120Zm60-500h600v-160H180v160Zm220 220h160v-160H400v160Zm0 220h160v-160H400v160ZM180-400h160v-160H180v160Zm440 0h160v-160H620v160ZM180-180h160v-160H180v160Zm440 0h160v-160H620v160Z\"/>\n",
              "  </svg>\n",
              "    </button>\n",
              "\n",
              "  <style>\n",
              "    .colab-df-container {\n",
              "      display:flex;\n",
              "      gap: 12px;\n",
              "    }\n",
              "\n",
              "    .colab-df-convert {\n",
              "      background-color: #E8F0FE;\n",
              "      border: none;\n",
              "      border-radius: 50%;\n",
              "      cursor: pointer;\n",
              "      display: none;\n",
              "      fill: #1967D2;\n",
              "      height: 32px;\n",
              "      padding: 0 0 0 0;\n",
              "      width: 32px;\n",
              "    }\n",
              "\n",
              "    .colab-df-convert:hover {\n",
              "      background-color: #E2EBFA;\n",
              "      box-shadow: 0px 1px 2px rgba(60, 64, 67, 0.3), 0px 1px 3px 1px rgba(60, 64, 67, 0.15);\n",
              "      fill: #174EA6;\n",
              "    }\n",
              "\n",
              "    .colab-df-buttons div {\n",
              "      margin-bottom: 4px;\n",
              "    }\n",
              "\n",
              "    [theme=dark] .colab-df-convert {\n",
              "      background-color: #3B4455;\n",
              "      fill: #D2E3FC;\n",
              "    }\n",
              "\n",
              "    [theme=dark] .colab-df-convert:hover {\n",
              "      background-color: #434B5C;\n",
              "      box-shadow: 0px 1px 3px 1px rgba(0, 0, 0, 0.15);\n",
              "      filter: drop-shadow(0px 1px 2px rgba(0, 0, 0, 0.3));\n",
              "      fill: #FFFFFF;\n",
              "    }\n",
              "  </style>\n",
              "\n",
              "    <script>\n",
              "      const buttonEl =\n",
              "        document.querySelector('#df-431f6445-cb03-40a9-b87c-716a4eddba2b button.colab-df-convert');\n",
              "      buttonEl.style.display =\n",
              "        google.colab.kernel.accessAllowed ? 'block' : 'none';\n",
              "\n",
              "      async function convertToInteractive(key) {\n",
              "        const element = document.querySelector('#df-431f6445-cb03-40a9-b87c-716a4eddba2b');\n",
              "        const dataTable =\n",
              "          await google.colab.kernel.invokeFunction('convertToInteractive',\n",
              "                                                    [key], {});\n",
              "        if (!dataTable) return;\n",
              "\n",
              "        const docLinkHtml = 'Like what you see? Visit the ' +\n",
              "          '<a target=\"_blank\" href=https://colab.research.google.com/notebooks/data_table.ipynb>data table notebook</a>'\n",
              "          + ' to learn more about interactive tables.';\n",
              "        element.innerHTML = '';\n",
              "        dataTable['output_type'] = 'display_data';\n",
              "        await google.colab.output.renderOutput(dataTable, element);\n",
              "        const docLink = document.createElement('div');\n",
              "        docLink.innerHTML = docLinkHtml;\n",
              "        element.appendChild(docLink);\n",
              "      }\n",
              "    </script>\n",
              "  </div>\n",
              "\n",
              "\n",
              "<div id=\"df-0281e203-7e76-4920-b4a3-a78b8d35f2b3\">\n",
              "  <button class=\"colab-df-quickchart\" onclick=\"quickchart('df-0281e203-7e76-4920-b4a3-a78b8d35f2b3')\"\n",
              "            title=\"Suggest charts.\"\n",
              "            style=\"display:none;\">\n",
              "\n",
              "<svg xmlns=\"http://www.w3.org/2000/svg\" height=\"24px\"viewBox=\"0 0 24 24\"\n",
              "     width=\"24px\">\n",
              "    <g>\n",
              "        <path d=\"M19 3H5c-1.1 0-2 .9-2 2v14c0 1.1.9 2 2 2h14c1.1 0 2-.9 2-2V5c0-1.1-.9-2-2-2zM9 17H7v-7h2v7zm4 0h-2V7h2v10zm4 0h-2v-4h2v4z\"/>\n",
              "    </g>\n",
              "</svg>\n",
              "  </button>\n",
              "\n",
              "<style>\n",
              "  .colab-df-quickchart {\n",
              "    background-color: #E8F0FE;\n",
              "    border: none;\n",
              "    border-radius: 50%;\n",
              "    cursor: pointer;\n",
              "    display: none;\n",
              "    fill: #1967D2;\n",
              "    height: 32px;\n",
              "    padding: 0 0 0 0;\n",
              "    width: 32px;\n",
              "  }\n",
              "\n",
              "  .colab-df-quickchart:hover {\n",
              "    background-color: #E2EBFA;\n",
              "    box-shadow: 0px 1px 2px rgba(60, 64, 67, 0.3), 0px 1px 3px 1px rgba(60, 64, 67, 0.15);\n",
              "    fill: #174EA6;\n",
              "  }\n",
              "\n",
              "  [theme=dark] .colab-df-quickchart {\n",
              "    background-color: #3B4455;\n",
              "    fill: #D2E3FC;\n",
              "  }\n",
              "\n",
              "  [theme=dark] .colab-df-quickchart:hover {\n",
              "    background-color: #434B5C;\n",
              "    box-shadow: 0px 1px 3px 1px rgba(0, 0, 0, 0.15);\n",
              "    filter: drop-shadow(0px 1px 2px rgba(0, 0, 0, 0.3));\n",
              "    fill: #FFFFFF;\n",
              "  }\n",
              "</style>\n",
              "\n",
              "  <script>\n",
              "    async function quickchart(key) {\n",
              "      const charts = await google.colab.kernel.invokeFunction(\n",
              "          'suggestCharts', [key], {});\n",
              "    }\n",
              "    (() => {\n",
              "      let quickchartButtonEl =\n",
              "        document.querySelector('#df-0281e203-7e76-4920-b4a3-a78b8d35f2b3 button');\n",
              "      quickchartButtonEl.style.display =\n",
              "        google.colab.kernel.accessAllowed ? 'block' : 'none';\n",
              "    })();\n",
              "  </script>\n",
              "</div>\n",
              "    </div>\n",
              "  </div>\n"
            ]
          },
          "metadata": {},
          "execution_count": 13
        }
      ]
    },
    {
      "cell_type": "code",
      "source": [
        "sns.boxplot(df_compet_trees['cost']) # классы 0, 1, 2, 3\n",
        "\n",
        "# классы 0 - min стоимость\n",
        "# классы 1 - 25% +- стоимость\n",
        "# классы 2 - 50% +- стоимость\n",
        "# классы 3 - max +- стоимость\n",
        "\n",
        "#Или на 2 класса - дешевое и дорогое жилье (медиана, персентиль 50%)"
      ],
      "metadata": {
        "colab": {
          "base_uri": "https://localhost:8080/",
          "height": 466
        },
        "id": "06X4ur7OZy80",
        "outputId": "5c64236e-bd03-4b7d-f9eb-a110d525ca21"
      },
      "id": "06X4ur7OZy80",
      "execution_count": null,
      "outputs": [
        {
          "output_type": "execute_result",
          "data": {
            "text/plain": [
              "<Axes: >"
            ]
          },
          "metadata": {},
          "execution_count": 14
        },
        {
          "output_type": "display_data",
          "data": {
            "text/plain": [
              "<Figure size 640x480 with 1 Axes>"
            ],
            "image/png": "[encoded data removed]"
          },
          "metadata": {}
        }
      ]
    },
    {
      "cell_type": "code",
      "source": [
        "df = pd.read_csv(\"diabetes.csv\")\n",
        "df.head()"
      ],
      "metadata": {
        "colab": {
          "base_uri": "https://localhost:8080/",
          "height": 206
        },
        "id": "oSEMbmUIFzLB",
        "outputId": "37e6cd7d-47cb-4a5b-b0d8-e09654e7ee28"
      },
      "id": "oSEMbmUIFzLB",
      "execution_count": null,
      "outputs": [
        {
          "output_type": "execute_result",
          "data": {
            "text/plain": [
              "   Pregnancies  Glucose  BloodPressure  SkinThickness  Insulin   BMI  \\\n",
              "0            6      148             72             35        0  33.6   \n",
              "1            1       85             66             29        0  26.6   \n",
              "2            8      183             64              0        0  23.3   \n",
              "3            1       89             66             23       94  28.1   \n",
              "4            0      137             40             35      168  43.1   \n",
              "\n",
              "   DiabetesPedigreeFunction  Age  Outcome  \n",
              "0                     0.627   50        1  \n",
              "1                     0.351   31        0  \n",
              "2                     0.672   32        1  \n",
              "3                     0.167   21        0  \n",
              "4                     2.288   33        1  "
            ],
            "text/html": [
              "\n",
              "  <div id=\"df-e721064e-dfbc-443c-9ede-523082cd7e42\" class=\"colab-df-container\">\n",
              "    <div>\n",
              "<style scoped>\n",
              "    .dataframe tbody tr th:only-of-type {\n",
              "        vertical-align: middle;\n",
              "    }\n",
              "\n",
              "    .dataframe tbody tr th {\n",
              "        vertical-align: top;\n",
              "    }\n",
              "\n",
              "    .dataframe thead th {\n",
              "        text-align: right;\n",
              "    }\n",
              "</style>\n",
              "<table border=\"1\" class=\"dataframe\">\n",
              "  <thead>\n",
              "    <tr style=\"text-align: right;\">\n",
              "      <th></th>\n",
              "      <th>Pregnancies</th>\n",
              "      <th>Glucose</th>\n",
              "      <th>BloodPressure</th>\n",
              "      <th>SkinThickness</th>\n",
              "      <th>Insulin</th>\n",
              "      <th>BMI</th>\n",
              "      <th>DiabetesPedigreeFunction</th>\n",
              "      <th>Age</th>\n",
              "      <th>Outcome</th>\n",
              "    </tr>\n",
              "  </thead>\n",
              "  <tbody>\n",
              "    <tr>\n",
              "      <th>0</th>\n",
              "      <td>6</td>\n",
              "      <td>148</td>\n",
              "      <td>72</td>\n",
              "      <td>35</td>\n",
              "      <td>0</td>\n",
              "      <td>33.6</td>\n",
              "      <td>0.627</td>\n",
              "      <td>50</td>\n",
              "      <td>1</td>\n",
              "    </tr>\n",
              "    <tr>\n",
              "      <th>1</th>\n",
              "      <td>1</td>\n",
              "      <td>85</td>\n",
              "      <td>66</td>\n",
              "      <td>29</td>\n",
              "      <td>0</td>\n",
              "      <td>26.6</td>\n",
              "      <td>0.351</td>\n",
              "      <td>31</td>\n",
              "      <td>0</td>\n",
              "    </tr>\n",
              "    <tr>\n",
              "      <th>2</th>\n",
              "      <td>8</td>\n",
              "      <td>183</td>\n",
              "      <td>64</td>\n",
              "      <td>0</td>\n",
              "      <td>0</td>\n",
              "      <td>23.3</td>\n",
              "      <td>0.672</td>\n",
              "      <td>32</td>\n",
              "      <td>1</td>\n",
              "    </tr>\n",
              "    <tr>\n",
              "      <th>3</th>\n",
              "      <td>1</td>\n",
              "      <td>89</td>\n",
              "      <td>66</td>\n",
              "      <td>23</td>\n",
              "      <td>94</td>\n",
              "      <td>28.1</td>\n",
              "      <td>0.167</td>\n",
              "      <td>21</td>\n",
              "      <td>0</td>\n",
              "    </tr>\n",
              "    <tr>\n",
              "      <th>4</th>\n",
              "      <td>0</td>\n",
              "      <td>137</td>\n",
              "      <td>40</td>\n",
              "      <td>35</td>\n",
              "      <td>168</td>\n",
              "      <td>43.1</td>\n",
              "      <td>2.288</td>\n",
              "      <td>33</td>\n",
              "      <td>1</td>\n",
              "    </tr>\n",
              "  </tbody>\n",
              "</table>\n",
              "</div>\n",
              "    <div class=\"colab-df-buttons\">\n",
              "\n",
              "  <div class=\"colab-df-container\">\n",
              "    <button class=\"colab-df-convert\" onclick=\"convertToInteractive('df-e721064e-dfbc-443c-9ede-523082cd7e42')\"\n",
              "            title=\"Convert this dataframe to an interactive table.\"\n",
              "            style=\"display:none;\">\n",
              "\n",
              "  <svg xmlns=\"http://www.w3.org/2000/svg\" height=\"24px\" viewBox=\"0 -960 960 960\">\n",
              "    <path d=\"M120-120v-720h720v720H120Zm60-500h600v-160H180v160Zm220 220h160v-160H400v160Zm0 220h160v-160H400v160ZM180-400h160v-160H180v160Zm440 0h160v-160H620v160ZM180-180h160v-160H180v160Zm440 0h160v-160H620v160Z\"/>\n",
              "  </svg>\n",
              "    </button>\n",
              "\n",
              "  <style>\n",
              "    .colab-df-container {\n",
              "      display:flex;\n",
              "      gap: 12px;\n",
              "    }\n",
              "\n",
              "    .colab-df-convert {\n",
              "      background-color: #E8F0FE;\n",
              "      border: none;\n",
              "      border-radius: 50%;\n",
              "      cursor: pointer;\n",
              "      display: none;\n",
              "      fill: #1967D2;\n",
              "      height: 32px;\n",
              "      padding: 0 0 0 0;\n",
              "      width: 32px;\n",
              "    }\n",
              "\n",
              "    .colab-df-convert:hover {\n",
              "      background-color: #E2EBFA;\n",
              "      box-shadow: 0px 1px 2px rgba(60, 64, 67, 0.3), 0px 1px 3px 1px rgba(60, 64, 67, 0.15);\n",
              "      fill: #174EA6;\n",
              "    }\n",
              "\n",
              "    .colab-df-buttons div {\n",
              "      margin-bottom: 4px;\n",
              "    }\n",
              "\n",
              "    [theme=dark] .colab-df-convert {\n",
              "      background-color: #3B4455;\n",
              "      fill: #D2E3FC;\n",
              "    }\n",
              "\n",
              "    [theme=dark] .colab-df-convert:hover {\n",
              "      background-color: #434B5C;\n",
              "      box-shadow: 0px 1px 3px 1px rgba(0, 0, 0, 0.15);\n",
              "      filter: drop-shadow(0px 1px 2px rgba(0, 0, 0, 0.3));\n",
              "      fill: #FFFFFF;\n",
              "    }\n",
              "  </style>\n",
              "\n",
              "    <script>\n",
              "      const buttonEl =\n",
              "        document.querySelector('#df-e721064e-dfbc-443c-9ede-523082cd7e42 button.colab-df-convert');\n",
              "      buttonEl.style.display =\n",
              "        google.colab.kernel.accessAllowed ? 'block' : 'none';\n",
              "\n",
              "      async function convertToInteractive(key) {\n",
              "        const element = document.querySelector('#df-e721064e-dfbc-443c-9ede-523082cd7e42');\n",
              "        const dataTable =\n",
              "          await google.colab.kernel.invokeFunction('convertToInteractive',\n",
              "                                                    [key], {});\n",
              "        if (!dataTable) return;\n",
              "\n",
              "        const docLinkHtml = 'Like what you see? Visit the ' +\n",
              "          '<a target=\"_blank\" href=https://colab.research.google.com/notebooks/data_table.ipynb>data table notebook</a>'\n",
              "          + ' to learn more about interactive tables.';\n",
              "        element.innerHTML = '';\n",
              "        dataTable['output_type'] = 'display_data';\n",
              "        await google.colab.output.renderOutput(dataTable, element);\n",
              "        const docLink = document.createElement('div');\n",
              "        docLink.innerHTML = docLinkHtml;\n",
              "        element.appendChild(docLink);\n",
              "      }\n",
              "    </script>\n",
              "  </div>\n",
              "\n",
              "\n",
              "<div id=\"df-c70ac390-065c-46ee-bed3-47d6f1f3cf7e\">\n",
              "  <button class=\"colab-df-quickchart\" onclick=\"quickchart('df-c70ac390-065c-46ee-bed3-47d6f1f3cf7e')\"\n",
              "            title=\"Suggest charts.\"\n",
              "            style=\"display:none;\">\n",
              "\n",
              "<svg xmlns=\"http://www.w3.org/2000/svg\" height=\"24px\"viewBox=\"0 0 24 24\"\n",
              "     width=\"24px\">\n",
              "    <g>\n",
              "        <path d=\"M19 3H5c-1.1 0-2 .9-2 2v14c0 1.1.9 2 2 2h14c1.1 0 2-.9 2-2V5c0-1.1-.9-2-2-2zM9 17H7v-7h2v7zm4 0h-2V7h2v10zm4 0h-2v-4h2v4z\"/>\n",
              "    </g>\n",
              "</svg>\n",
              "  </button>\n",
              "\n",
              "<style>\n",
              "  .colab-df-quickchart {\n",
              "    background-color: #E8F0FE;\n",
              "    border: none;\n",
              "    border-radius: 50%;\n",
              "    cursor: pointer;\n",
              "    display: none;\n",
              "    fill: #1967D2;\n",
              "    height: 32px;\n",
              "    padding: 0 0 0 0;\n",
              "    width: 32px;\n",
              "  }\n",
              "\n",
              "  .colab-df-quickchart:hover {\n",
              "    background-color: #E2EBFA;\n",
              "    box-shadow: 0px 1px 2px rgba(60, 64, 67, 0.3), 0px 1px 3px 1px rgba(60, 64, 67, 0.15);\n",
              "    fill: #174EA6;\n",
              "  }\n",
              "\n",
              "  [theme=dark] .colab-df-quickchart {\n",
              "    background-color: #3B4455;\n",
              "    fill: #D2E3FC;\n",
              "  }\n",
              "\n",
              "  [theme=dark] .colab-df-quickchart:hover {\n",
              "    background-color: #434B5C;\n",
              "    box-shadow: 0px 1px 3px 1px rgba(0, 0, 0, 0.15);\n",
              "    filter: drop-shadow(0px 1px 2px rgba(0, 0, 0, 0.3));\n",
              "    fill: #FFFFFF;\n",
              "  }\n",
              "</style>\n",
              "\n",
              "  <script>\n",
              "    async function quickchart(key) {\n",
              "      const charts = await google.colab.kernel.invokeFunction(\n",
              "          'suggestCharts', [key], {});\n",
              "    }\n",
              "    (() => {\n",
              "      let quickchartButtonEl =\n",
              "        document.querySelector('#df-c70ac390-065c-46ee-bed3-47d6f1f3cf7e button');\n",
              "      quickchartButtonEl.style.display =\n",
              "        google.colab.kernel.accessAllowed ? 'block' : 'none';\n",
              "    })();\n",
              "  </script>\n",
              "</div>\n",
              "    </div>\n",
              "  </div>\n"
            ]
          },
          "metadata": {},
          "execution_count": 15
        }
      ]
    },
    {
      "cell_type": "code",
      "source": [],
      "metadata": {
        "id": "aoynRhtiZYHx"
      },
      "id": "aoynRhtiZYHx",
      "execution_count": null,
      "outputs": []
    },
    {
      "cell_type": "code",
      "execution_count": null,
      "id": "d50b7275",
      "metadata": {
        "execution": {
          "iopub.execute_input": "2023-01-31T22:08:16.634279Z",
          "iopub.status.busy": "2023-01-31T22:08:16.633675Z",
          "iopub.status.idle": "2023-01-31T22:08:16.661075Z",
          "shell.execute_reply": "2023-01-31T22:08:16.659702Z"
        },
        "papermill": {
          "duration": 0.047827,
          "end_time": "2023-01-31T22:08:16.664727",
          "exception": false,
          "start_time": "2023-01-31T22:08:16.616900",
          "status": "completed"
        },
        "tags": [],
        "colab": {
          "base_uri": "https://localhost:8080/"
        },
        "id": "d50b7275",
        "outputId": "044c3bcc-6f97-4ac2-bfd1-286f1cf1a1f5"
      },
      "outputs": [
        {
          "output_type": "stream",
          "name": "stdout",
          "text": [
            "<class 'pandas.core.frame.DataFrame'>\n",
            "RangeIndex: 768 entries, 0 to 767\n",
            "Data columns (total 9 columns):\n",
            " #   Column                    Non-Null Count  Dtype  \n",
            "---  ------                    --------------  -----  \n",
            " 0   Pregnancies               768 non-null    int64  \n",
            " 1   Glucose                   768 non-null    int64  \n",
            " 2   BloodPressure             768 non-null    int64  \n",
            " 3   SkinThickness             768 non-null    int64  \n",
            " 4   Insulin                   768 non-null    int64  \n",
            " 5   BMI                       768 non-null    float64\n",
            " 6   DiabetesPedigreeFunction  768 non-null    float64\n",
            " 7   Age                       768 non-null    int64  \n",
            " 8   Outcome                   768 non-null    int64  \n",
            "dtypes: float64(2), int64(7)\n",
            "memory usage: 54.1 KB\n"
          ]
        }
      ],
      "source": [
        "df.info()"
      ]
    },
    {
      "cell_type": "code",
      "execution_count": null,
      "id": "c9c223ed",
      "metadata": {
        "execution": {
          "iopub.execute_input": "2023-01-31T22:08:16.690422Z",
          "iopub.status.busy": "2023-01-31T22:08:16.690032Z",
          "iopub.status.idle": "2023-01-31T22:08:16.700089Z",
          "shell.execute_reply": "2023-01-31T22:08:16.698811Z"
        },
        "papermill": {
          "duration": 0.025116,
          "end_time": "2023-01-31T22:08:16.702337",
          "exception": false,
          "start_time": "2023-01-31T22:08:16.677221",
          "status": "completed"
        },
        "tags": [],
        "colab": {
          "base_uri": "https://localhost:8080/"
        },
        "id": "c9c223ed",
        "outputId": "f8c87a95-3033-4538-d47b-2901bb086f1a"
      },
      "outputs": [
        {
          "output_type": "execute_result",
          "data": {
            "text/plain": [
              "Pregnancies                 0\n",
              "Glucose                     0\n",
              "BloodPressure               0\n",
              "SkinThickness               0\n",
              "Insulin                     0\n",
              "BMI                         0\n",
              "DiabetesPedigreeFunction    0\n",
              "Age                         0\n",
              "Outcome                     0\n",
              "dtype: int64"
            ]
          },
          "metadata": {},
          "execution_count": 17
        }
      ],
      "source": [
        "df.isnull().sum()"
      ]
    },
    {
      "cell_type": "code",
      "execution_count": null,
      "id": "06257485",
      "metadata": {
        "execution": {
          "iopub.execute_input": "2023-01-31T22:08:16.727628Z",
          "iopub.status.busy": "2023-01-31T22:08:16.727233Z",
          "iopub.status.idle": "2023-01-31T22:08:16.764387Z",
          "shell.execute_reply": "2023-01-31T22:08:16.763488Z"
        },
        "papermill": {
          "duration": 0.052236,
          "end_time": "2023-01-31T22:08:16.766918",
          "exception": false,
          "start_time": "2023-01-31T22:08:16.714682",
          "status": "completed"
        },
        "tags": [],
        "colab": {
          "base_uri": "https://localhost:8080/",
          "height": 300
        },
        "id": "06257485",
        "outputId": "1c43e276-2a41-4e87-dfde-8366910483f3"
      },
      "outputs": [
        {
          "output_type": "execute_result",
          "data": {
            "text/plain": [
              "       Pregnancies  Glucose  BloodPressure  SkinThickness  Insulin    BMI  \\\n",
              "count       768.00   768.00         768.00         768.00   768.00 768.00   \n",
              "mean          3.85   120.89          69.11          20.54    79.80  31.99   \n",
              "std           3.37    31.97          19.36          15.95   115.24   7.88   \n",
              "min           0.00     0.00           0.00           0.00     0.00   0.00   \n",
              "25%           1.00    99.00          62.00           0.00     0.00  27.30   \n",
              "50%           3.00   117.00          72.00          23.00    30.50  32.00   \n",
              "75%           6.00   140.25          80.00          32.00   127.25  36.60   \n",
              "max          17.00   199.00         122.00          99.00   846.00  67.10   \n",
              "\n",
              "       DiabetesPedigreeFunction    Age  Outcome  \n",
              "count                    768.00 768.00   768.00  \n",
              "mean                       0.47  33.24     0.35  \n",
              "std                        0.33  11.76     0.48  \n",
              "min                        0.08  21.00     0.00  \n",
              "25%                        0.24  24.00     0.00  \n",
              "50%                        0.37  29.00     0.00  \n",
              "75%                        0.63  41.00     1.00  \n",
              "max                        2.42  81.00     1.00  "
            ],
            "text/html": [
              "\n",
              "  <div id=\"df-970e677e-22b3-4986-b366-690aa15853da\" class=\"colab-df-container\">\n",
              "    <div>\n",
              "<style scoped>\n",
              "    .dataframe tbody tr th:only-of-type {\n",
              "        vertical-align: middle;\n",
              "    }\n",
              "\n",
              "    .dataframe tbody tr th {\n",
              "        vertical-align: top;\n",
              "    }\n",
              "\n",
              "    .dataframe thead th {\n",
              "        text-align: right;\n",
              "    }\n",
              "</style>\n",
              "<table border=\"1\" class=\"dataframe\">\n",
              "  <thead>\n",
              "    <tr style=\"text-align: right;\">\n",
              "      <th></th>\n",
              "      <th>Pregnancies</th>\n",
              "      <th>Glucose</th>\n",
              "      <th>BloodPressure</th>\n",
              "      <th>SkinThickness</th>\n",
              "      <th>Insulin</th>\n",
              "      <th>BMI</th>\n",
              "      <th>DiabetesPedigreeFunction</th>\n",
              "      <th>Age</th>\n",
              "      <th>Outcome</th>\n",
              "    </tr>\n",
              "  </thead>\n",
              "  <tbody>\n",
              "    <tr>\n",
              "      <th>count</th>\n",
              "      <td>768.00</td>\n",
              "      <td>768.00</td>\n",
              "      <td>768.00</td>\n",
              "      <td>768.00</td>\n",
              "      <td>768.00</td>\n",
              "      <td>768.00</td>\n",
              "      <td>768.00</td>\n",
              "      <td>768.00</td>\n",
              "      <td>768.00</td>\n",
              "    </tr>\n",
              "    <tr>\n",
              "      <th>mean</th>\n",
              "      <td>3.85</td>\n",
              "      <td>120.89</td>\n",
              "      <td>69.11</td>\n",
              "      <td>20.54</td>\n",
              "      <td>79.80</td>\n",
              "      <td>31.99</td>\n",
              "      <td>0.47</td>\n",
              "      <td>33.24</td>\n",
              "      <td>0.35</td>\n",
              "    </tr>\n",
              "    <tr>\n",
              "      <th>std</th>\n",
              "      <td>3.37</td>\n",
              "      <td>31.97</td>\n",
              "      <td>19.36</td>\n",
              "      <td>15.95</td>\n",
              "      <td>115.24</td>\n",
              "      <td>7.88</td>\n",
              "      <td>0.33</td>\n",
              "      <td>11.76</td>\n",
              "      <td>0.48</td>\n",
              "    </tr>\n",
              "    <tr>\n",
              "      <th>min</th>\n",
              "      <td>0.00</td>\n",
              "      <td>0.00</td>\n",
              "      <td>0.00</td>\n",
              "      <td>0.00</td>\n",
              "      <td>0.00</td>\n",
              "      <td>0.00</td>\n",
              "      <td>0.08</td>\n",
              "      <td>21.00</td>\n",
              "      <td>0.00</td>\n",
              "    </tr>\n",
              "    <tr>\n",
              "      <th>25%</th>\n",
              "      <td>1.00</td>\n",
              "      <td>99.00</td>\n",
              "      <td>62.00</td>\n",
              "      <td>0.00</td>\n",
              "      <td>0.00</td>\n",
              "      <td>27.30</td>\n",
              "      <td>0.24</td>\n",
              "      <td>24.00</td>\n",
              "      <td>0.00</td>\n",
              "    </tr>\n",
              "    <tr>\n",
              "      <th>50%</th>\n",
              "      <td>3.00</td>\n",
              "      <td>117.00</td>\n",
              "      <td>72.00</td>\n",
              "      <td>23.00</td>\n",
              "      <td>30.50</td>\n",
              "      <td>32.00</td>\n",
              "      <td>0.37</td>\n",
              "      <td>29.00</td>\n",
              "      <td>0.00</td>\n",
              "    </tr>\n",
              "    <tr>\n",
              "      <th>75%</th>\n",
              "      <td>6.00</td>\n",
              "      <td>140.25</td>\n",
              "      <td>80.00</td>\n",
              "      <td>32.00</td>\n",
              "      <td>127.25</td>\n",
              "      <td>36.60</td>\n",
              "      <td>0.63</td>\n",
              "      <td>41.00</td>\n",
              "      <td>1.00</td>\n",
              "    </tr>\n",
              "    <tr>\n",
              "      <th>max</th>\n",
              "      <td>17.00</td>\n",
              "      <td>199.00</td>\n",
              "      <td>122.00</td>\n",
              "      <td>99.00</td>\n",
              "      <td>846.00</td>\n",
              "      <td>67.10</td>\n",
              "      <td>2.42</td>\n",
              "      <td>81.00</td>\n",
              "      <td>1.00</td>\n",
              "    </tr>\n",
              "  </tbody>\n",
              "</table>\n",
              "</div>\n",
              "    <div class=\"colab-df-buttons\">\n",
              "\n",
              "  <div class=\"colab-df-container\">\n",
              "    <button class=\"colab-df-convert\" onclick=\"convertToInteractive('df-970e677e-22b3-4986-b366-690aa15853da')\"\n",
              "            title=\"Convert this dataframe to an interactive table.\"\n",
              "            style=\"display:none;\">\n",
              "\n",
              "  <svg xmlns=\"http://www.w3.org/2000/svg\" height=\"24px\" viewBox=\"0 -960 960 960\">\n",
              "    <path d=\"M120-120v-720h720v720H120Zm60-500h600v-160H180v160Zm220 220h160v-160H400v160Zm0 220h160v-160H400v160ZM180-400h160v-160H180v160Zm440 0h160v-160H620v160ZM180-180h160v-160H180v160Zm440 0h160v-160H620v160Z\"/>\n",
              "  </svg>\n",
              "    </button>\n",
              "\n",
              "  <style>\n",
              "    .colab-df-container {\n",
              "      display:flex;\n",
              "      gap: 12px;\n",
              "    }\n",
              "\n",
              "    .colab-df-convert {\n",
              "      background-color: #E8F0FE;\n",
              "      border: none;\n",
              "      border-radius: 50%;\n",
              "      cursor: pointer;\n",
              "      display: none;\n",
              "      fill: #1967D2;\n",
              "      height: 32px;\n",
              "      padding: 0 0 0 0;\n",
              "      width: 32px;\n",
              "    }\n",
              "\n",
              "    .colab-df-convert:hover {\n",
              "      background-color: #E2EBFA;\n",
              "      box-shadow: 0px 1px 2px rgba(60, 64, 67, 0.3), 0px 1px 3px 1px rgba(60, 64, 67, 0.15);\n",
              "      fill: #174EA6;\n",
              "    }\n",
              "\n",
              "    .colab-df-buttons div {\n",
              "      margin-bottom: 4px;\n",
              "    }\n",
              "\n",
              "    [theme=dark] .colab-df-convert {\n",
              "      background-color: #3B4455;\n",
              "      fill: #D2E3FC;\n",
              "    }\n",
              "\n",
              "    [theme=dark] .colab-df-convert:hover {\n",
              "      background-color: #434B5C;\n",
              "      box-shadow: 0px 1px 3px 1px rgba(0, 0, 0, 0.15);\n",
              "      filter: drop-shadow(0px 1px 2px rgba(0, 0, 0, 0.3));\n",
              "      fill: #FFFFFF;\n",
              "    }\n",
              "  </style>\n",
              "\n",
              "    <script>\n",
              "      const buttonEl =\n",
              "        document.querySelector('#df-970e677e-22b3-4986-b366-690aa15853da button.colab-df-convert');\n",
              "      buttonEl.style.display =\n",
              "        google.colab.kernel.accessAllowed ? 'block' : 'none';\n",
              "\n",
              "      async function convertToInteractive(key) {\n",
              "        const element = document.querySelector('#df-970e677e-22b3-4986-b366-690aa15853da');\n",
              "        const dataTable =\n",
              "          await google.colab.kernel.invokeFunction('convertToInteractive',\n",
              "                                                    [key], {});\n",
              "        if (!dataTable) return;\n",
              "\n",
              "        const docLinkHtml = 'Like what you see? Visit the ' +\n",
              "          '<a target=\"_blank\" href=https://colab.research.google.com/notebooks/data_table.ipynb>data table notebook</a>'\n",
              "          + ' to learn more about interactive tables.';\n",
              "        element.innerHTML = '';\n",
              "        dataTable['output_type'] = 'display_data';\n",
              "        await google.colab.output.renderOutput(dataTable, element);\n",
              "        const docLink = document.createElement('div');\n",
              "        docLink.innerHTML = docLinkHtml;\n",
              "        element.appendChild(docLink);\n",
              "      }\n",
              "    </script>\n",
              "  </div>\n",
              "\n",
              "\n",
              "<div id=\"df-4b9a3ddd-7995-401c-a069-d4f1a60d7c92\">\n",
              "  <button class=\"colab-df-quickchart\" onclick=\"quickchart('df-4b9a3ddd-7995-401c-a069-d4f1a60d7c92')\"\n",
              "            title=\"Suggest charts.\"\n",
              "            style=\"display:none;\">\n",
              "\n",
              "<svg xmlns=\"http://www.w3.org/2000/svg\" height=\"24px\"viewBox=\"0 0 24 24\"\n",
              "     width=\"24px\">\n",
              "    <g>\n",
              "        <path d=\"M19 3H5c-1.1 0-2 .9-2 2v14c0 1.1.9 2 2 2h14c1.1 0 2-.9 2-2V5c0-1.1-.9-2-2-2zM9 17H7v-7h2v7zm4 0h-2V7h2v10zm4 0h-2v-4h2v4z\"/>\n",
              "    </g>\n",
              "</svg>\n",
              "  </button>\n",
              "\n",
              "<style>\n",
              "  .colab-df-quickchart {\n",
              "    background-color: #E8F0FE;\n",
              "    border: none;\n",
              "    border-radius: 50%;\n",
              "    cursor: pointer;\n",
              "    display: none;\n",
              "    fill: #1967D2;\n",
              "    height: 32px;\n",
              "    padding: 0 0 0 0;\n",
              "    width: 32px;\n",
              "  }\n",
              "\n",
              "  .colab-df-quickchart:hover {\n",
              "    background-color: #E2EBFA;\n",
              "    box-shadow: 0px 1px 2px rgba(60, 64, 67, 0.3), 0px 1px 3px 1px rgba(60, 64, 67, 0.15);\n",
              "    fill: #174EA6;\n",
              "  }\n",
              "\n",
              "  [theme=dark] .colab-df-quickchart {\n",
              "    background-color: #3B4455;\n",
              "    fill: #D2E3FC;\n",
              "  }\n",
              "\n",
              "  [theme=dark] .colab-df-quickchart:hover {\n",
              "    background-color: #434B5C;\n",
              "    box-shadow: 0px 1px 3px 1px rgba(0, 0, 0, 0.15);\n",
              "    filter: drop-shadow(0px 1px 2px rgba(0, 0, 0, 0.3));\n",
              "    fill: #FFFFFF;\n",
              "  }\n",
              "</style>\n",
              "\n",
              "  <script>\n",
              "    async function quickchart(key) {\n",
              "      const charts = await google.colab.kernel.invokeFunction(\n",
              "          'suggestCharts', [key], {});\n",
              "    }\n",
              "    (() => {\n",
              "      let quickchartButtonEl =\n",
              "        document.querySelector('#df-4b9a3ddd-7995-401c-a069-d4f1a60d7c92 button');\n",
              "      quickchartButtonEl.style.display =\n",
              "        google.colab.kernel.accessAllowed ? 'block' : 'none';\n",
              "    })();\n",
              "  </script>\n",
              "</div>\n",
              "    </div>\n",
              "  </div>\n"
            ]
          },
          "metadata": {},
          "execution_count": 18
        }
      ],
      "source": [
        "pd.set_option('display.float_format', '{:.2f}'.format)\n",
        "df.describe()"
      ]
    },
    {
      "cell_type": "code",
      "execution_count": null,
      "id": "8a62d76d",
      "metadata": {
        "_kg_hide-output": true,
        "execution": {
          "iopub.execute_input": "2023-01-31T22:08:16.792008Z",
          "iopub.status.busy": "2023-01-31T22:08:16.791515Z",
          "iopub.status.idle": "2023-01-31T22:08:16.801935Z",
          "shell.execute_reply": "2023-01-31T22:08:16.800850Z"
        },
        "papermill": {
          "duration": 0.025417,
          "end_time": "2023-01-31T22:08:16.804128",
          "exception": false,
          "start_time": "2023-01-31T22:08:16.778711",
          "status": "completed"
        },
        "tags": [],
        "id": "8a62d76d"
      },
      "outputs": [],
      "source": [
        "categorical_val = []\n",
        "continous_val = []\n",
        "for column in df.columns:\n",
        "#     print('==============================')\n",
        "#     print(f\"{column} : {df[column].unique()}\")\n",
        "    if len(df[column].unique()) <= 10:\n",
        "        categorical_val.append(column)\n",
        "    else:\n",
        "        continous_val.append(column)"
      ]
    },
    {
      "cell_type": "markdown",
      "id": "ef0e12be",
      "metadata": {
        "papermill": {
          "duration": 0.01098,
          "end_time": "2023-01-31T22:08:16.826383",
          "exception": false,
          "start_time": "2023-01-31T22:08:16.815403",
          "status": "completed"
        },
        "tags": [],
        "id": "ef0e12be"
      },
      "source": [
        "# Предварительная обработка данных (Препроцессинг)"
      ]
    },
    {
      "cell_type": "code",
      "execution_count": null,
      "id": "b68cfca5",
      "metadata": {
        "execution": {
          "iopub.execute_input": "2023-01-31T22:08:16.852120Z",
          "iopub.status.busy": "2023-01-31T22:08:16.851085Z",
          "iopub.status.idle": "2023-01-31T22:08:16.859404Z",
          "shell.execute_reply": "2023-01-31T22:08:16.858221Z"
        },
        "papermill": {
          "duration": 0.024251,
          "end_time": "2023-01-31T22:08:16.862144",
          "exception": false,
          "start_time": "2023-01-31T22:08:16.837893",
          "status": "completed"
        },
        "tags": [],
        "colab": {
          "base_uri": "https://localhost:8080/"
        },
        "id": "b68cfca5",
        "outputId": "e11365f2-8565-4709-d0d5-478b884a3d9d"
      },
      "outputs": [
        {
          "output_type": "execute_result",
          "data": {
            "text/plain": [
              "Index(['Pregnancies', 'Glucose', 'BloodPressure', 'SkinThickness', 'Insulin',\n",
              "       'BMI', 'DiabetesPedigreeFunction', 'Age', 'Outcome'],\n",
              "      dtype='object')"
            ]
          },
          "metadata": {},
          "execution_count": 20
        }
      ],
      "source": [
        "df.columns"
      ]
    },
    {
      "cell_type": "code",
      "execution_count": null,
      "id": "265ace8a",
      "metadata": {
        "execution": {
          "iopub.execute_input": "2023-01-31T22:08:16.887935Z",
          "iopub.status.busy": "2023-01-31T22:08:16.887471Z",
          "iopub.status.idle": "2023-01-31T22:08:16.899841Z",
          "shell.execute_reply": "2023-01-31T22:08:16.898385Z"
        },
        "papermill": {
          "duration": 0.028061,
          "end_time": "2023-01-31T22:08:16.902123",
          "exception": false,
          "start_time": "2023-01-31T22:08:16.874062",
          "status": "completed"
        },
        "tags": [],
        "colab": {
          "base_uri": "https://localhost:8080/"
        },
        "id": "265ace8a",
        "outputId": "ec1517f5-766c-4247-89c9-27db18652a63"
      },
      "outputs": [
        {
          "output_type": "stream",
          "name": "stdout",
          "text": [
            "Outcome ==> Пропущенные значения вариант1 : Pregnancies                0.00\n",
            "Glucose                    0.00\n",
            "BloodPressure              0.00\n",
            "SkinThickness              0.00\n",
            "Insulin                    0.00\n",
            "BMI                        0.00\n",
            "DiabetesPedigreeFunction   0.00\n",
            "Age                        0.00\n",
            "Outcome                    0.00\n",
            "dtype: float64\n",
            "============================================\n",
            "Pregnancies ==> Значения  вариант2 равные 0: 111\n",
            "============================================\n",
            "Glucose ==> Значения  вариант2 равные 0: 5\n",
            "============================================\n",
            "BloodPressure ==> Значения  вариант2 равные 0: 35\n",
            "============================================\n",
            "SkinThickness ==> Значения  вариант2 равные 0: 227\n",
            "============================================\n",
            "Insulin ==> Значения  вариант2 равные 0: 374\n",
            "============================================\n",
            "BMI ==> Значения  вариант2 равные 0: 11\n",
            "============================================\n",
            "DiabetesPedigreeFunction ==> Значения  вариант2 равные 0: 0\n",
            "============================================\n",
            "Age ==> Значения  вариант2 равные 0: 0\n"
          ]
        }
      ],
      "source": [
        "# Сколько пропущенных значений отсутствует в каждом элементе\n",
        "feature_columns = [\n",
        "    'Pregnancies', 'Glucose', 'BloodPressure', 'SkinThickness',\n",
        "    'Insulin', 'BMI', 'DiabetesPedigreeFunction', 'Age'\n",
        "]\n",
        "\n",
        "print(f\"{column} ==> Пропущенные значения вариант1 : {df.isna().mean()}\")\n",
        "for column in feature_columns:\n",
        "    print(\"============================================\")\n",
        "    print(f\"{column} ==> Значения  вариант2 равные 0: {len(df.loc[df[column] == 0])}\")"
      ]
    },
    {
      "cell_type": "code",
      "execution_count": null,
      "id": "ae391180",
      "metadata": {
        "execution": {
          "iopub.execute_input": "2023-01-31T22:08:16.927846Z",
          "iopub.status.busy": "2023-01-31T22:08:16.927391Z",
          "iopub.status.idle": "2023-01-31T22:08:17.298385Z",
          "shell.execute_reply": "2023-01-31T22:08:17.296537Z"
        },
        "papermill": {
          "duration": 0.387449,
          "end_time": "2023-01-31T22:08:17.301586",
          "exception": false,
          "start_time": "2023-01-31T22:08:16.914137",
          "status": "completed"
        },
        "tags": [],
        "colab": {
          "base_uri": "https://localhost:8080/"
        },
        "id": "ae391180",
        "outputId": "2d9483a8-5c02-4412-d7d0-a099293ccd48"
      },
      "outputs": [
        {
          "output_type": "stream",
          "name": "stdout",
          "text": [
            "============================================\n",
            "Pregnancies ==> Значения  вариант2 равные 0 : 0\n",
            "============================================\n",
            "Glucose ==> Значения  вариант2 равные 0 : 0\n",
            "============================================\n",
            "BloodPressure ==> Значения  вариант2 равные 0 : 0\n",
            "============================================\n",
            "SkinThickness ==> Значения  вариант2 равные 0 : 0\n",
            "============================================\n",
            "Insulin ==> Значения  вариант2 равные 0 : 0\n",
            "============================================\n",
            "BMI ==> Значения  вариант2 равные 0 : 0\n",
            "============================================\n",
            "DiabetesPedigreeFunction ==> Значения  вариант2 равные 0 : 0\n",
            "============================================\n",
            "Age ==> Значения  вариант2 равные 0 : 0\n"
          ]
        }
      ],
      "source": [
        "from sklearn.impute import SimpleImputer\n",
        "\n",
        "\n",
        "fill_values = SimpleImputer(missing_values=0, strategy=\"mean\", copy=False)\n",
        "df[feature_columns] = fill_values.fit_transform(df[feature_columns])\n",
        "\n",
        "for column in feature_columns:\n",
        "    print(\"============================================\")\n",
        "    print(f\"{column} ==> Значения  вариант2 равные 0 : {len(df.loc[df[column] == 0])}\")"
      ]
    },
    {
      "cell_type": "code",
      "execution_count": null,
      "id": "70c8559d",
      "metadata": {
        "execution": {
          "iopub.execute_input": "2023-01-31T22:08:17.327391Z",
          "iopub.status.busy": "2023-01-31T22:08:17.326982Z",
          "iopub.status.idle": "2023-01-31T22:08:17.337292Z",
          "shell.execute_reply": "2023-01-31T22:08:17.336002Z"
        },
        "papermill": {
          "duration": 0.025607,
          "end_time": "2023-01-31T22:08:17.339549",
          "exception": false,
          "start_time": "2023-01-31T22:08:17.313942",
          "status": "completed"
        },
        "tags": [],
        "id": "70c8559d"
      },
      "outputs": [],
      "source": [
        "from sklearn.model_selection import train_test_split\n",
        "\n",
        "\n",
        "X = df[feature_columns]\n",
        "y = df.Outcome\n",
        "\n",
        "X_train, X_test, y_train, y_test = train_test_split(X, y, test_size=0.3, random_state=1234)"
      ]
    },
    {
      "cell_type": "code",
      "execution_count": null,
      "id": "018e0a65",
      "metadata": {
        "execution": {
          "iopub.execute_input": "2023-01-31T22:08:17.365810Z",
          "iopub.status.busy": "2023-01-31T22:08:17.364994Z",
          "iopub.status.idle": "2023-01-31T22:08:17.374174Z",
          "shell.execute_reply": "2023-01-31T22:08:17.372848Z"
        },
        "papermill": {
          "duration": 0.024982,
          "end_time": "2023-01-31T22:08:17.376537",
          "exception": false,
          "start_time": "2023-01-31T22:08:17.351555",
          "status": "completed"
        },
        "tags": [],
        "id": "018e0a65"
      },
      "outputs": [],
      "source": [
        "from sklearn.metrics import confusion_matrix, accuracy_score, f1_score, precision_score, recall_score, classification_report\n",
        "\n",
        "\n",
        "def evaluate(model, X_train, X_test, y_train, y_test):\n",
        "    y_test_pred = model.predict(X_test)\n",
        "    y_train_pred = model.predict(X_train)\n",
        "\n",
        "    print(\"РЕЗУЛЬТАТЫ ОБУЧЕНИЯ (ОБУЧАЮЩАЯ ВЫБОРКА): \\n===============================\")\n",
        "    clf_report = pd.DataFrame(classification_report(y_train, y_train_pred, output_dict=True))\n",
        "    print(f\"МАТРИЦА ОШИБОК (CONFUSION MATRIX):\\n{confusion_matrix(y_train, y_train_pred)}\")\n",
        "    print(f\"ACCURACY ПАРАМЕТР:\\n{accuracy_score(y_train, y_train_pred):.4f}\")\n",
        "    print(f\"PRECISION ПАРАМЕТР:\\n{precision_score(y_train, y_train_pred):.4f}\")\n",
        "    print(f\"RECALL ПАРАМЕТР:\\n{recall_score(y_train, y_train_pred):.4f}\")\n",
        "    print(f\"F1 МЕРА:\\n{f1_score(y_train, y_train_pred):.4f}\")\n",
        "    print(f\"ОТЧЕТ О КЛАССИФИКАЦИИ:\\n{clf_report}\")\n",
        "\n",
        "    print(\"РЕЗУЛЬТАТЫ ТЕСТОВОЙ ВЫБОРКИ: \\n===============================\")\n",
        "    clf_report = pd.DataFrame(classification_report(y_test, y_test_pred, output_dict=True))\n",
        "    print(f\"МАТРИЦА ОШИБОК (CONFUSION MATRIX):\\n{confusion_matrix(y_test, y_test_pred)}\")\n",
        "    print(f\"ACCURACY ПАРАМЕТР:\\n{accuracy_score(y_test, y_test_pred):.4f}\")\n",
        "    print(f\"PRECISION ПАРАМЕТР:\\n{precision_score(y_test, y_test_pred):.4f}\")\n",
        "    print(f\"RECALL ПАРАМЕТР:\\n{recall_score(y_test, y_test_pred):.4f}\")\n",
        "    print(f\"F1 МЕРА:\\n{f1_score(y_test, y_test_pred):.4f}\")\n",
        "    print(f\"ОТЧЕТ О КЛАССИФИКАЦИИ:\\n{clf_report}\")"
      ]
    },
    {
      "cell_type": "markdown",
      "id": "4f232ccc",
      "metadata": {
        "papermill": {
          "duration": 0.011344,
          "end_time": "2023-01-31T22:08:17.399723",
          "exception": false,
          "start_time": "2023-01-31T22:08:17.388379",
          "status": "completed"
        },
        "tags": [],
        "id": "4f232ccc"
      },
      "source": [
        "# Bagging Algorithms\n",
        "Агрегация Bootstrap или bagging  включает в себя взятие нескольких выборок из  обучающего набора данных (с заменой) и обучение модели для каждой выборки.\n",
        "\n",
        "Окончательный прогноз на выходе усредняется по прогнозам всех подмоделей.\n",
        "\n",
        "Ниже приведены три bagging алгоритма:\n",
        "\n",
        "1. Bagged Decision Trees\n",
        "2. Random Forest\n",
        "3. Extra Trees"
      ]
    },
    {
      "cell_type": "markdown",
      "id": "b053fabe",
      "metadata": {
        "papermill": {
          "duration": 0.01127,
          "end_time": "2023-01-31T22:08:17.422670",
          "exception": false,
          "start_time": "2023-01-31T22:08:17.411400",
          "status": "completed"
        },
        "tags": [],
        "id": "b053fabe"
      },
      "source": [
        "## 1. Bagged Decision Trees\n",
        "Bagging лучше всего работает с алгоритмами, которые имеют высокую дисперсию. Популярным примером являются деревья решений, часто построенные без обрезки (pruning).\n",
        "\n",
        "**BaggingClassifier**:\n",
        "\n",
        "BaggingClassifier - это комплексный метаоценщик, который подбирает базовые классификаторы для каждого из случайных подмножеств исходного набора данных, а затем агрегирует их индивидуальные прогнозы (либо путем голосования (voting), либо путем усреднения) для формирования окончательного прогноза. Такая метаоценка обычно может использоваться как способ уменьшить дисперсию оценки \"черного ящика\" (например, дерева решений) путем введения рандомизации в процедуру ее построения и последующего создания из нее ансамбля.\n",
        "\n",
        "Этот алгоритм включает в себя несколько работ из литературы. Когда случайные подмножества набора данных рисуются как случайные подмножества выборок, тогда этот алгоритм известен как вставка. Если образцы отбираются с заменой, то этот метод известен как Bagging. Когда случайные подмножества набора данных рисуются как случайные подмножества объектов, тогда метод известен как случайные подпространства (Random Subspaces). Наконец, когда базовые оценки строятся на подмножествах как выборок, так и признаков, тогда метод известен как случайные исправления (Random Patches).\n",
        "\n",
        "**Параметры BaggingClassifier:**\n",
        "- `base_estimator`: базовый оценщик для подгонки к случайным подмножествам набора данных. Если нет, то базовой оценкой является дерево решений.\n",
        "***\n",
        "- `n_estimators`: количество базовых оценок в ансамбле.\n",
        "***\n",
        "- `max_samples`: количество выборок, которые нужно извлечь из X для обучения каждого базового оценщика.\n",
        "***\n",
        "- `max_features`: количество объектов, которые нужно извлечь из X для обучения каждого базового оценщика.\n",
        "***\n",
        "- `bootstrap`: Рисуются ли образцы с заменой. Если значение равно False, выполняется выборка без замены.\n",
        "***\n",
        "- `bootstrap_features`: Рисуются ли объекты с заменой.\n",
        "***\n",
        "- `oob_score`: следует ли использовать готовые образцы для оценки ошибки обобщения.\n",
        "***\n",
        "- `warm_start`: если установлено значение True, повторно используйте решение предыдущего вызова для подгонки и добавьте больше оценок в ансамбль, в противном случае просто подогоните совершенно новый ансамбль."
      ]
    },
    {
      "cell_type": "code",
      "execution_count": null,
      "id": "2e1726da",
      "metadata": {
        "execution": {
          "iopub.execute_input": "2023-01-31T22:08:17.448002Z",
          "iopub.status.busy": "2023-01-31T22:08:17.447568Z",
          "iopub.status.idle": "2023-01-31T22:08:22.550387Z",
          "shell.execute_reply": "2023-01-31T22:08:22.548831Z"
        },
        "papermill": {
          "duration": 5.11859,
          "end_time": "2023-01-31T22:08:22.552988",
          "exception": false,
          "start_time": "2023-01-31T22:08:17.434398",
          "status": "completed"
        },
        "tags": [],
        "colab": {
          "base_uri": "https://localhost:8080/"
        },
        "id": "2e1726da",
        "outputId": "1b917642-7b25-43ce-a5b0-8f20033cacc9"
      },
      "outputs": [
        {
          "output_type": "stream",
          "name": "stdout",
          "text": [
            "РЕЗУЛЬТАТЫ ОБУЧЕНИЯ (ОБУЧАЮЩАЯ ВЫБОРКА): \n",
            "===============================\n",
            "МАТРИЦА ОШИБОК (CONFUSION MATRIX):\n",
            "[[353   0]\n",
            " [  0 184]]\n",
            "ACCURACY ПАРАМЕТР:\n",
            "1.0000\n",
            "PRECISION ПАРАМЕТР:\n",
            "1.0000\n",
            "RECALL ПАРАМЕТР:\n",
            "1.0000\n",
            "F1 МЕРА:\n",
            "1.0000\n",
            "ОТЧЕТ О КЛАССИФИКАЦИИ:\n",
            "               0      1  accuracy  macro avg  weighted avg\n",
            "precision   1.00   1.00      1.00       1.00          1.00\n",
            "recall      1.00   1.00      1.00       1.00          1.00\n",
            "f1-score    1.00   1.00      1.00       1.00          1.00\n",
            "support   353.00 184.00      1.00     537.00        537.00\n",
            "РЕЗУЛЬТАТЫ ТЕСТОВОЙ ВЫБОРКИ: \n",
            "===============================\n",
            "МАТРИЦА ОШИБОК (CONFUSION MATRIX):\n",
            "[[128  19]\n",
            " [ 42  42]]\n",
            "ACCURACY ПАРАМЕТР:\n",
            "0.7359\n",
            "PRECISION ПАРАМЕТР:\n",
            "0.6885\n",
            "RECALL ПАРАМЕТР:\n",
            "0.5000\n",
            "F1 МЕРА:\n",
            "0.5793\n",
            "ОТЧЕТ О КЛАССИФИКАЦИИ:\n",
            "               0     1  accuracy  macro avg  weighted avg\n",
            "precision   0.75  0.69      0.74       0.72          0.73\n",
            "recall      0.87  0.50      0.74       0.69          0.74\n",
            "f1-score    0.81  0.58      0.74       0.69          0.72\n",
            "support   147.00 84.00      0.74     231.00        231.00\n"
          ]
        }
      ],
      "source": [
        "from sklearn.ensemble import BaggingClassifier\n",
        "from sklearn.tree import DecisionTreeClassifier\n",
        "\n",
        "tree = DecisionTreeClassifier()\n",
        "bagging_clf = BaggingClassifier(estimator=tree, n_estimators=1500, random_state=1234)\n",
        "bagging_clf.fit(X_train, y_train)\n",
        "\n",
        "evaluate(bagging_clf, X_train, X_test, y_train, y_test)"
      ]
    },
    {
      "cell_type": "code",
      "source": [
        "scores = {}\n",
        "scores_f1 = {}"
      ],
      "metadata": {
        "id": "7JqZZd6x3I-o"
      },
      "id": "7JqZZd6x3I-o",
      "execution_count": null,
      "outputs": []
    },
    {
      "cell_type": "code",
      "execution_count": null,
      "id": "b342650f",
      "metadata": {
        "execution": {
          "iopub.execute_input": "2023-01-31T22:08:22.579133Z",
          "iopub.status.busy": "2023-01-31T22:08:22.578681Z",
          "iopub.status.idle": "2023-01-31T22:08:23.086268Z",
          "shell.execute_reply": "2023-01-31T22:08:23.084949Z"
        },
        "papermill": {
          "duration": 0.523687,
          "end_time": "2023-01-31T22:08:23.089393",
          "exception": false,
          "start_time": "2023-01-31T22:08:22.565706",
          "status": "completed"
        },
        "tags": [],
        "id": "b342650f"
      },
      "outputs": [],
      "source": [
        "scores['Bagging Classifier'] = {\n",
        "        'Train': accuracy_score(y_train, bagging_clf.predict(X_train)),\n",
        "        'Test': accuracy_score(y_test, bagging_clf.predict(X_test)),\n",
        "}"
      ]
    },
    {
      "cell_type": "code",
      "execution_count": null,
      "metadata": {
        "execution": {
          "iopub.execute_input": "2023-01-31T22:08:22.579133Z",
          "iopub.status.busy": "2023-01-31T22:08:22.578681Z",
          "iopub.status.idle": "2023-01-31T22:08:23.086268Z",
          "shell.execute_reply": "2023-01-31T22:08:23.084949Z"
        },
        "papermill": {
          "duration": 0.523687,
          "end_time": "2023-01-31T22:08:23.089393",
          "exception": false,
          "start_time": "2023-01-31T22:08:22.565706",
          "status": "completed"
        },
        "tags": [],
        "id": "Nrbd71gZU74j"
      },
      "outputs": [],
      "source": [
        "scores_f1['Bagging Classifier'] = {\n",
        "        'Train': f1_score(y_train, bagging_clf.predict(X_train)),\n",
        "        'Test': f1_score(y_test, bagging_clf.predict(X_test))\n",
        "}"
      ],
      "id": "Nrbd71gZU74j"
    },
    {
      "cell_type": "markdown",
      "id": "602e9fa1",
      "metadata": {
        "papermill": {
          "duration": 0.012373,
          "end_time": "2023-01-31T22:08:23.114801",
          "exception": false,
          "start_time": "2023-01-31T22:08:23.102428",
          "status": "completed"
        },
        "tags": [],
        "id": "602e9fa1"
      },
      "source": [
        "## 2. Random Forest\n",
        "\n",
        "Случайный лес - это метаоценщик, который соответствует нескольким классификаторам дерева решений для различных подвыборок набора данных и использует усреднение для повышения точности прогнозирования и контроля чрезмерной подгонки.\n",
        "\n",
        "Размер подвыборки всегда совпадает с исходным размером входной выборки, но выборки рисуются с заменой, если `bootstrap=True` (по умолчанию).\n",
        "\n",
        "- **Параметры алгоритма случайного леса:**- `n_estimators`: количество деревьев в лесу.\n",
        "***\n",
        "- `criterion`: функция для измерения качества разделения. Поддерживаемыми критериями являются \"джини\" для примеси Джини и `энтропия\" для получения информации.\n",
        "***\n",
        "- `max_depth`: Максимальная глубина дерева. Если нет, то узлы расширяются до тех пор, пока все листья не станут чистыми или пока все листья не будут содержать меньше выборок `min_samples_split`.\n",
        "***\n",
        "- `min_samples_split`: минимальное количество выборок, необходимое для разделения внутреннего узла.\n",
        "***\n",
        "- `min_samples_leaf`: минимальное количество выборок, необходимое для нахождения в конечном узле. Точка разделения на любой глубине будет учитываться только в том случае, если она оставляет по крайней мере обучающие выборки `min_samples_leaf` в каждой из левой и правой ветвей. Это может привести к сглаживанию модели, особенно при регрессии.\n",
        "***\n",
        "- `min_weight_fraction_leaf`: минимальная взвешенная доля от общего количества весов (всех входных выборок), необходимая для нахождения в конечном узле. Образцы имеют одинаковый вес, если sample_weight не указан.\n",
        "***\n",
        "- `max_features`: количество функций, которые следует учитывать при поиске наилучшего разделения.\n",
        "***\n",
        "- `max_leaf_nodes`: Вырастите дерево с помощью `max_leaf_nodes` наилучшим образом. Наилучшие узлы определяются как относительное уменьшение содержания примесей. Если нет, то неограниченное количество конечных узлов.\n",
        "***\n",
        "- `min_impurity_decrease`: Узел будет разделен, если это разделение приведет к уменьшению примеси, большему или равному этому значению.\n",
        "***\n",
        "- `min_impurity_split`: порог для ранней остановки роста дерева. Узел разделится, если его примесь превысит пороговое значение, в противном случае это лист.\n",
        "***\n",
        "- `bootstrap`: используются ли образцы bootstrap при построении деревьев. Если значение False, то для построения каждого дерева используется весь набор данных.\n",
        "***\n",
        "- `oob_score`: следует ли использовать готовые образцы для оценки точности обобщения.\n",
        "***\n",
        "- `warm_start`: если установлено значение True, повторно используйте решение предыдущего вызова для подгонки и добавьте больше оценок в ансамбль, в противном случае просто подогоните совершенно новый ансамбль."
      ]
    },
    {
      "cell_type": "code",
      "execution_count": null,
      "id": "77b7deec",
      "metadata": {
        "execution": {
          "iopub.execute_input": "2023-01-31T22:08:23.141722Z",
          "iopub.status.busy": "2023-01-31T22:08:23.140637Z",
          "iopub.status.idle": "2023-01-31T22:08:25.408144Z",
          "shell.execute_reply": "2023-01-31T22:08:25.406552Z"
        },
        "papermill": {
          "duration": 2.283456,
          "end_time": "2023-01-31T22:08:25.410823",
          "exception": false,
          "start_time": "2023-01-31T22:08:23.127367",
          "status": "completed"
        },
        "tags": [],
        "colab": {
          "base_uri": "https://localhost:8080/"
        },
        "id": "77b7deec",
        "outputId": "ab2b8109-eefa-4e8d-e6a8-bfb87c096219"
      },
      "outputs": [
        {
          "output_type": "stream",
          "name": "stdout",
          "text": [
            "РЕЗУЛЬТАТЫ ОБУЧЕНИЯ (ОБУЧАЮЩАЯ ВЫБОРКА): \n",
            "===============================\n",
            "МАТРИЦА ОШИБОК (CONFUSION MATRIX):\n",
            "[[353   0]\n",
            " [  0 184]]\n",
            "ACCURACY ПАРАМЕТР:\n",
            "1.0000\n",
            "PRECISION ПАРАМЕТР:\n",
            "1.0000\n",
            "RECALL ПАРАМЕТР:\n",
            "1.0000\n",
            "F1 МЕРА:\n",
            "1.0000\n",
            "ОТЧЕТ О КЛАССИФИКАЦИИ:\n",
            "               0      1  accuracy  macro avg  weighted avg\n",
            "precision   1.00   1.00      1.00       1.00          1.00\n",
            "recall      1.00   1.00      1.00       1.00          1.00\n",
            "f1-score    1.00   1.00      1.00       1.00          1.00\n",
            "support   353.00 184.00      1.00     537.00        537.00\n",
            "РЕЗУЛЬТАТЫ ТЕСТОВОЙ ВЫБОРКИ: \n",
            "===============================\n",
            "МАТРИЦА ОШИБОК (CONFUSION MATRIX):\n",
            "[[133  14]\n",
            " [ 44  40]]\n",
            "ACCURACY ПАРАМЕТР:\n",
            "0.7489\n",
            "PRECISION ПАРАМЕТР:\n",
            "0.7407\n",
            "RECALL ПАРАМЕТР:\n",
            "0.4762\n",
            "F1 МЕРА:\n",
            "0.5797\n",
            "ОТЧЕТ О КЛАССИФИКАЦИИ:\n",
            "               0     1  accuracy  macro avg  weighted avg\n",
            "precision   0.75  0.74      0.75       0.75          0.75\n",
            "recall      0.90  0.48      0.75       0.69          0.75\n",
            "f1-score    0.82  0.58      0.75       0.70          0.73\n",
            "support   147.00 84.00      0.75     231.00        231.00\n"
          ]
        }
      ],
      "source": [
        "from sklearn.ensemble import RandomForestClassifier\n",
        "\n",
        "rf_clf = RandomForestClassifier(random_state=1234, n_estimators=1000)\n",
        "rf_clf.fit(X_train, y_train)\n",
        "evaluate(rf_clf, X_train, X_test, y_train, y_test)"
      ]
    },
    {
      "cell_type": "code",
      "source": [
        "scores"
      ],
      "metadata": {
        "colab": {
          "base_uri": "https://localhost:8080/"
        },
        "id": "Y5nWjssn2-m6",
        "outputId": "cd43bf61-dbe8-46c4-c0cc-5e174571b128"
      },
      "id": "Y5nWjssn2-m6",
      "execution_count": null,
      "outputs": [
        {
          "output_type": "execute_result",
          "data": {
            "text/plain": [
              "{'Bagging Classifier': {'Train': 1.0, 'Test': 0.7359307359307359}}"
            ]
          },
          "metadata": {},
          "execution_count": 39
        }
      ]
    },
    {
      "cell_type": "code",
      "execution_count": null,
      "id": "3bb813e2",
      "metadata": {
        "execution": {
          "iopub.execute_input": "2023-01-31T22:08:25.436044Z",
          "iopub.status.busy": "2023-01-31T22:08:25.435600Z",
          "iopub.status.idle": "2023-01-31T22:08:25.800718Z",
          "shell.execute_reply": "2023-01-31T22:08:25.799241Z"
        },
        "papermill": {
          "duration": 0.38067,
          "end_time": "2023-01-31T22:08:25.803321",
          "exception": false,
          "start_time": "2023-01-31T22:08:25.422651",
          "status": "completed"
        },
        "tags": [],
        "id": "3bb813e2"
      },
      "outputs": [],
      "source": [
        "scores['Random Forest'] = {\n",
        "        'Train': accuracy_score(y_train, rf_clf.predict(X_train)),\n",
        "        'Test': accuracy_score(y_test, rf_clf.predict(X_test)),\n",
        "    }"
      ]
    },
    {
      "cell_type": "code",
      "execution_count": null,
      "metadata": {
        "execution": {
          "iopub.execute_input": "2023-01-31T22:08:22.579133Z",
          "iopub.status.busy": "2023-01-31T22:08:22.578681Z",
          "iopub.status.idle": "2023-01-31T22:08:23.086268Z",
          "shell.execute_reply": "2023-01-31T22:08:23.084949Z"
        },
        "papermill": {
          "duration": 0.523687,
          "end_time": "2023-01-31T22:08:23.089393",
          "exception": false,
          "start_time": "2023-01-31T22:08:22.565706",
          "status": "completed"
        },
        "tags": [],
        "id": "BlcfZQpiVHaQ"
      },
      "outputs": [],
      "source": [
        "scores_f1['Random Forest'] = {\n",
        "        'Train': f1_score(y_train, rf_clf.predict(X_train)),\n",
        "        'Test': f1_score(y_test, rf_clf.predict(X_test)),\n",
        "}"
      ],
      "id": "BlcfZQpiVHaQ"
    },
    {
      "cell_type": "code",
      "source": [
        "scores_f1"
      ],
      "metadata": {
        "colab": {
          "base_uri": "https://localhost:8080/"
        },
        "id": "prgMLaY2XS5S",
        "outputId": "34e6f9e4-130c-4596-f89f-c1a485d2f580"
      },
      "id": "prgMLaY2XS5S",
      "execution_count": null,
      "outputs": [
        {
          "output_type": "execute_result",
          "data": {
            "text/plain": [
              "{'Bagging Classifier': {'Train': 1.0, 'Test': 0.5793103448275863},\n",
              " 'Random Forest': {'Train': 1.0, 'Test': 0.5797101449275363}}"
            ]
          },
          "metadata": {},
          "execution_count": 42
        }
      ]
    },
    {
      "cell_type": "markdown",
      "id": "370116e2",
      "metadata": {
        "papermill": {
          "duration": 0.011736,
          "end_time": "2023-01-31T22:08:25.827573",
          "exception": false,
          "start_time": "2023-01-31T22:08:25.815837",
          "status": "completed"
        },
        "tags": [],
        "id": "370116e2"
      },
      "source": [
        "## 3. Extra Trees\n",
        "Дополнительные деревья (Extra Trees) - это еще одна модификация bagging, при которой случайные деревья строятся из выборок обучающего набора данных.\n",
        "\n",
        "Вы можете построить модель дополнительных деревьев для классификации, используя класс ExtraTreesClassifier.\n",
        "\n",
        "**ExtraTreeClassifier**:\n",
        "\n",
        "Этот класс реализует мета-оценку, которая соответствует ряду рандомизированных деревьев решений (также известных как дополнительные деревья) для различных подвыборок набора данных и использует усреднение для повышения точности прогнозирования и контроля чрезмерной подгонки.\n",
        "\n",
        "**Параметры ExtraTreeClassifier**:\n",
        "- `n_estimators`: количество деревьев в лесу.\n",
        "***\n",
        "- `criterion`: функция для измерения качества разделения. Поддерживаемыми критериями являются `gini` для примеси Джини Gini impurity и `entropy` для получения информации information gain.\n",
        "***\n",
        "- `max_depth`: Максимальная глубина дерева. Если нет, то узлы расширяются до тех пор, пока все листья не станут чистыми или пока все листья не будут содержать меньше выборок `min_samples_split`.\n",
        "***\n",
        "- `min_samples_split`: минимальное количество выборок, необходимое для разделения внутреннего узла.\n",
        "***\n",
        "- `min_samples_leaf`: минимальное количество выборок, необходимое для нахождения в конечном узле. Точка разделения на любой глубине будет учитываться только в том случае, если она оставляет по крайней мере обучающие выборки `min_samples_leaf` в каждой из левой и правой ветвей. Это может привести к сглаживанию модели, особенно при регрессии.\n",
        "***\n",
        "- `min_weight_fraction_leaf`: минимальная взвешенная доля от общей суммы весов (всех входных выборок), необходимая для нахождения в конечном узле. Образцы имеют одинаковый вес, если sample_weight не указан.\n",
        "***\n",
        "- `max_features`: количество функций, которые следует учитывать при поиске наилучшего разделения.\n",
        "***\n",
        "- `max_leaf_nodes`: Вырастите дерево с помощью `max_leaf_nodes` наилучшим образом. Наилучшие узлы определяются как относительное уменьшение содержания примесей. Если нет, то неограниченное количество конечных узлов.\n",
        "***\n",
        "- `min_impurity_decrease`: Узел будет разделен, если это разделение приведет к уменьшению примеси, большему или равному этому значению.\n",
        "***\n",
        "- `min_impurity_split`: порог для ранней остановки роста дерева. Узел разделится, если его примесь превысит пороговое значение, в противном случае это лист.\n",
        "***\n",
        "- `bootstrap`: используются ли образцы bootstrap при построении деревьев. Если значение False, то для построения каждого дерева используется весь набор данных.\n",
        "***\n",
        "- `oob_score`: следует ли использовать готовые образцы для оценки точности обобщения.\n",
        "***\n",
        "- `warm_start`: если установлено значение True, повторно используйте решение предыдущего вызова для подгонки и добавьте больше оценок в ансамбль, в противном случае просто подогоните совершенно новый ансамбль."
      ]
    },
    {
      "cell_type": "code",
      "execution_count": null,
      "id": "c626d14c",
      "metadata": {
        "execution": {
          "iopub.execute_input": "2023-01-31T22:08:25.854256Z",
          "iopub.status.busy": "2023-01-31T22:08:25.853466Z",
          "iopub.status.idle": "2023-01-31T22:08:27.913740Z",
          "shell.execute_reply": "2023-01-31T22:08:27.912566Z"
        },
        "papermill": {
          "duration": 2.077058,
          "end_time": "2023-01-31T22:08:27.917094",
          "exception": false,
          "start_time": "2023-01-31T22:08:25.840036",
          "status": "completed"
        },
        "tags": [],
        "id": "c626d14c"
      },
      "outputs": [],
      "source": [
        "from sklearn.ensemble import ExtraTreesClassifier\n",
        "\n",
        "ex_tree_clf = ExtraTreesClassifier(n_estimators=1000, max_features=7, random_state=1234)\n",
        "ex_tree_clf.fit(X_train, y_train)\n",
        "evaluate(ex_tree_clf, X_train, X_test, y_train, y_test)"
      ]
    },
    {
      "cell_type": "code",
      "execution_count": null,
      "id": "7667b9f1",
      "metadata": {
        "execution": {
          "iopub.execute_input": "2023-01-31T22:08:27.945412Z",
          "iopub.status.busy": "2023-01-31T22:08:27.944252Z",
          "iopub.status.idle": "2023-01-31T22:08:28.332274Z",
          "shell.execute_reply": "2023-01-31T22:08:28.330869Z"
        },
        "papermill": {
          "duration": 0.405009,
          "end_time": "2023-01-31T22:08:28.335081",
          "exception": false,
          "start_time": "2023-01-31T22:08:27.930072",
          "status": "completed"
        },
        "tags": [],
        "id": "7667b9f1"
      },
      "outputs": [],
      "source": [
        "scores['Extra Tree'] = {\n",
        "        'Train': accuracy_score(y_train, ex_tree_clf.predict(X_train)),\n",
        "        'Test': accuracy_score(y_test, ex_tree_clf.predict(X_test)),\n",
        "    }"
      ]
    },
    {
      "cell_type": "code",
      "execution_count": null,
      "metadata": {
        "execution": {
          "iopub.execute_input": "2023-01-31T22:08:22.579133Z",
          "iopub.status.busy": "2023-01-31T22:08:22.578681Z",
          "iopub.status.idle": "2023-01-31T22:08:23.086268Z",
          "shell.execute_reply": "2023-01-31T22:08:23.084949Z"
        },
        "papermill": {
          "duration": 0.523687,
          "end_time": "2023-01-31T22:08:23.089393",
          "exception": false,
          "start_time": "2023-01-31T22:08:22.565706",
          "status": "completed"
        },
        "tags": [],
        "id": "91RdQdrcVJ1F"
      },
      "outputs": [],
      "source": [
        "scores_f1['Extra Tree'] = {\n",
        "        'Train': f1_score(y_train, ex_tree_clf.predict(X_train)),\n",
        "        'Test': f1_score(y_test, ex_tree_clf.predict(X_test)),\n",
        "}"
      ],
      "id": "91RdQdrcVJ1F"
    },
    {
      "cell_type": "code",
      "source": [
        "scores_f1"
      ],
      "metadata": {
        "id": "J9uespnyXJ7b"
      },
      "id": "J9uespnyXJ7b",
      "execution_count": null,
      "outputs": []
    },
    {
      "cell_type": "markdown",
      "id": "f3860239",
      "metadata": {
        "papermill": {
          "duration": 0.012126,
          "end_time": "2023-01-31T22:08:28.359114",
          "exception": false,
          "start_time": "2023-01-31T22:08:28.346988",
          "status": "completed"
        },
        "tags": [],
        "id": "f3860239"
      },
      "source": [
        "# Boosting Algorithms\n",
        "Boosting ensemble algorithms создает последовательность моделей, которые пытаются исправить ошибки моделей, предшествующих им в последовательности.\n",
        "\n",
        "После создания модели делают прогнозы, которые могут быть взвешены по их продемонстрированной точности, и результаты объединяются для создания окончательного выходного прогноза.\n",
        "\n",
        "Двумя наиболее распространенными алгоритмами машинного обучения boosting ensemble являются:\n",
        "\n",
        "1. AdaBoost\n",
        "2. Stochastic Gradient Boosting\n",
        "***"
      ]
    },
    {
      "cell_type": "markdown",
      "id": "fe5fc3af",
      "metadata": {
        "papermill": {
          "duration": 0.011389,
          "end_time": "2023-01-31T22:08:28.382371",
          "exception": false,
          "start_time": "2023-01-31T22:08:28.370982",
          "status": "completed"
        },
        "tags": [],
        "id": "fe5fc3af"
      },
      "source": [
        "## 1. AdaBoost\n",
        "AdaBoost был, пожалуй, первым успешным алгоритмом усиления ансамбля. Обычно это работает путем взвешивания экземпляров в наборе данных по тому, насколько легко или сложно их классифицировать, что позволяет алгоритму уделять им меньше внимания при построении последующих моделей.\n",
        "\n",
        "Вы можете построить модель AdaBoost для классификации, используя класс AdaBoost Classifier.\n",
        "\n",
        "**AdaBoostClassifier**:\n",
        "\n",
        "Классификатор AdaBoost - это метаоценщик, который начинается с подгонки классификатора к исходному набору данных, а затем подгоняет дополнительные копии классификатора к тому же набору данных, но где веса неправильно классифицированных экземпляров корректируются таким образом, чтобы последующие классификаторы больше фокусировались на сложных случаях.\n",
        "\n",
        "**AdaBoostClassifier Params**:\n",
        "- `base_estimator`: базовый оценщик, на основе которого строится расширенный ансамбль.\n",
        "***\n",
        "- `n_estimators`: максимальное количество оценок, при которых повышение завершается. В случае идеальной подгонки процедура обучения прекращается досрочно.\n",
        "***\n",
        "- `learning_rate`: скорость обучения уменьшает вклад каждого классификатора на `learning_rate`. Существует компромисс между `learning_rate` и `n_estimators`.\n",
        "***\n",
        "- `algorithm`: если 'SAME.R', то используйте алгоритм реального повышения SAMME.R. `base_estimator` должен поддерживать вычисление вероятностей классов. Если \"SAMME\", то используйте алгоритм дискретного повышения SAMME. Алгоритм SAMME.R обычно сходится быстрее, чем SAMME, достигая меньшей ошибки тестирования при меньшем количестве итераций повышения."
      ]
    },
    {
      "cell_type": "code",
      "execution_count": null,
      "id": "bc82f888",
      "metadata": {
        "execution": {
          "iopub.execute_input": "2023-01-31T22:08:28.408270Z",
          "iopub.status.busy": "2023-01-31T22:08:28.407878Z",
          "iopub.status.idle": "2023-01-31T22:08:28.506820Z",
          "shell.execute_reply": "2023-01-31T22:08:28.505529Z"
        },
        "papermill": {
          "duration": 0.114945,
          "end_time": "2023-01-31T22:08:28.509475",
          "exception": false,
          "start_time": "2023-01-31T22:08:28.394530",
          "status": "completed"
        },
        "tags": [],
        "id": "bc82f888"
      },
      "outputs": [],
      "source": [
        "from sklearn.ensemble import AdaBoostClassifier\n",
        "\n",
        "ada_boost_clf = AdaBoostClassifier(n_estimators=100)\n",
        "ada_boost_clf.fit(X_train, y_train) #тренировка на данных\n",
        "evaluate(ada_boost_clf, X_train, X_test, y_train, y_test)"
      ]
    },
    {
      "cell_type": "code",
      "execution_count": null,
      "id": "0ebf7d12",
      "metadata": {
        "execution": {
          "iopub.execute_input": "2023-01-31T22:08:28.535526Z",
          "iopub.status.busy": "2023-01-31T22:08:28.535114Z",
          "iopub.status.idle": "2023-01-31T22:08:28.561354Z",
          "shell.execute_reply": "2023-01-31T22:08:28.560099Z"
        },
        "papermill": {
          "duration": 0.042581,
          "end_time": "2023-01-31T22:08:28.564220",
          "exception": false,
          "start_time": "2023-01-31T22:08:28.521639",
          "status": "completed"
        },
        "tags": [],
        "id": "0ebf7d12"
      },
      "outputs": [],
      "source": [
        "scores['AdaBoost'] = {\n",
        "        'Train': accuracy_score(y_train, ada_boost_clf.predict(X_train)),\n",
        "        'Test': accuracy_score(y_test, ada_boost_clf.predict(X_test)),\n",
        "    }"
      ]
    },
    {
      "cell_type": "code",
      "execution_count": null,
      "metadata": {
        "execution": {
          "iopub.execute_input": "2023-01-31T22:08:22.579133Z",
          "iopub.status.busy": "2023-01-31T22:08:22.578681Z",
          "iopub.status.idle": "2023-01-31T22:08:23.086268Z",
          "shell.execute_reply": "2023-01-31T22:08:23.084949Z"
        },
        "papermill": {
          "duration": 0.523687,
          "end_time": "2023-01-31T22:08:23.089393",
          "exception": false,
          "start_time": "2023-01-31T22:08:22.565706",
          "status": "completed"
        },
        "tags": [],
        "id": "i2e81jxrVK_A"
      },
      "outputs": [],
      "source": [
        "scores_f1['AdaBoost'] = {\n",
        "        'Train': f1_score(y_train, ada_boost_clf.predict(X_train)),\n",
        "        'Test': f1_score(y_test, ada_boost_clf.predict(X_test)),\n",
        "}"
      ],
      "id": "i2e81jxrVK_A"
    },
    {
      "cell_type": "code",
      "source": [
        "scores_f1"
      ],
      "metadata": {
        "id": "KJ9m8dS6XD-h"
      },
      "id": "KJ9m8dS6XD-h",
      "execution_count": null,
      "outputs": []
    },
    {
      "cell_type": "markdown",
      "source": [
        "## 2. Catboost"
      ],
      "metadata": {
        "id": "ez17xge0QSYj"
      },
      "id": "ez17xge0QSYj"
    },
    {
      "cell_type": "code",
      "source": [
        "!pip install catboost"
      ],
      "metadata": {
        "id": "nugu2IXIQjoT"
      },
      "id": "nugu2IXIQjoT",
      "execution_count": null,
      "outputs": []
    },
    {
      "cell_type": "code",
      "source": [
        "from catboost import CatBoostClassifier\n",
        "\n",
        "cat_clf = CatBoostClassifier(n_estimators=100)\n",
        "cat_clf.fit(X_train, y_train) #тренировка на данных\n",
        "evaluate(cat_clf, X_train, X_test, y_train, y_test)"
      ],
      "metadata": {
        "id": "N7Lhuo6fQRUY"
      },
      "id": "N7Lhuo6fQRUY",
      "execution_count": null,
      "outputs": []
    },
    {
      "cell_type": "code",
      "source": [
        "scores['CatBoostClassifier Boosting'] = {\n",
        "        'Train': accuracy_score(y_train, cat_clf.predict(X_train)),\n",
        "        'Test': accuracy_score(y_test, cat_clf.predict(X_test)),\n",
        "    }"
      ],
      "metadata": {
        "id": "QjYb9ja9TQpF"
      },
      "id": "QjYb9ja9TQpF",
      "execution_count": null,
      "outputs": []
    },
    {
      "cell_type": "code",
      "execution_count": null,
      "metadata": {
        "execution": {
          "iopub.execute_input": "2023-01-31T22:08:22.579133Z",
          "iopub.status.busy": "2023-01-31T22:08:22.578681Z",
          "iopub.status.idle": "2023-01-31T22:08:23.086268Z",
          "shell.execute_reply": "2023-01-31T22:08:23.084949Z"
        },
        "papermill": {
          "duration": 0.523687,
          "end_time": "2023-01-31T22:08:23.089393",
          "exception": false,
          "start_time": "2023-01-31T22:08:22.565706",
          "status": "completed"
        },
        "tags": [],
        "id": "YqAGSuD-VMGc"
      },
      "outputs": [],
      "source": [
        "scores_f1['CatBoostClassifier Boosting'] = {\n",
        "        'Train': f1_score(y_train, cat_clf.predict(X_train)),\n",
        "        'Test': f1_score(y_test, cat_clf.predict(X_test)),\n",
        "}"
      ],
      "id": "YqAGSuD-VMGc"
    },
    {
      "cell_type": "code",
      "source": [
        "scores_f1"
      ],
      "metadata": {
        "id": "uJt6A6AaW6Ig"
      },
      "id": "uJt6A6AaW6Ig",
      "execution_count": null,
      "outputs": []
    },
    {
      "cell_type": "markdown",
      "source": [
        "## 3. XGBoost"
      ],
      "metadata": {
        "id": "jx6jjjSdRxkw"
      },
      "id": "jx6jjjSdRxkw"
    },
    {
      "cell_type": "code",
      "source": [
        "!pip install xgboost"
      ],
      "metadata": {
        "id": "7oc8WJBSRw5Y"
      },
      "id": "7oc8WJBSRw5Y",
      "execution_count": null,
      "outputs": []
    },
    {
      "cell_type": "code",
      "source": [
        "from xgboost import XGBClassifier\n",
        "\n",
        "xgboost_clf = XGBClassifier(n_estimators=100)\n",
        "xgboost_clf.fit(X_train, y_train) #тренировка на данных\n",
        "evaluate(xgboost_clf, X_train, X_test, y_train, y_test)"
      ],
      "metadata": {
        "id": "LPpHbGSUR5Z8"
      },
      "id": "LPpHbGSUR5Z8",
      "execution_count": null,
      "outputs": []
    },
    {
      "cell_type": "code",
      "source": [
        "scores['XGBClassifier Boosting'] = {\n",
        "        'Train': accuracy_score(y_train, xgboost_clf.predict(X_train)),\n",
        "        'Test': accuracy_score(y_test, xgboost_clf.predict(X_test)),\n",
        "    }"
      ],
      "metadata": {
        "id": "BSKDn0vpTFN9"
      },
      "id": "BSKDn0vpTFN9",
      "execution_count": null,
      "outputs": []
    },
    {
      "cell_type": "code",
      "execution_count": null,
      "metadata": {
        "execution": {
          "iopub.execute_input": "2023-01-31T22:08:22.579133Z",
          "iopub.status.busy": "2023-01-31T22:08:22.578681Z",
          "iopub.status.idle": "2023-01-31T22:08:23.086268Z",
          "shell.execute_reply": "2023-01-31T22:08:23.084949Z"
        },
        "papermill": {
          "duration": 0.523687,
          "end_time": "2023-01-31T22:08:23.089393",
          "exception": false,
          "start_time": "2023-01-31T22:08:22.565706",
          "status": "completed"
        },
        "tags": [],
        "id": "sYLGhfQBVNMQ"
      },
      "outputs": [],
      "source": [
        "scores_f1['XGBClassifier Boosting'] = {\n",
        "        'Train': f1_score(y_train, xgboost_clf.predict(X_train)),\n",
        "        'Test': f1_score(y_test, xgboost_clf.predict(X_test)),\n",
        "}"
      ],
      "id": "sYLGhfQBVNMQ"
    },
    {
      "cell_type": "code",
      "source": [
        "scores_f1"
      ],
      "metadata": {
        "id": "geYvuSmFW0JO"
      },
      "id": "geYvuSmFW0JO",
      "execution_count": null,
      "outputs": []
    },
    {
      "cell_type": "markdown",
      "id": "7e89d6c3",
      "metadata": {
        "papermill": {
          "duration": 0.011751,
          "end_time": "2023-01-31T22:08:28.588422",
          "exception": false,
          "start_time": "2023-01-31T22:08:28.576671",
          "status": "completed"
        },
        "tags": [],
        "id": "7e89d6c3"
      },
      "source": [
        "## 4. Stochastic Gradient Boosting\n",
        "Stochastic Gradient Boosting (также называемые машинами для повышения градиента) - это одна из самых сложных ансамблевых техник. Это также метод, который зарекомендовал себя, пожалуй, как один из лучших методов, доступных для улучшения производительности с помощью ансамблей.\n",
        "\n",
        "**GradientBoostingClassifier**:\n",
        "\n",
        "GB строит аддитивную модель поэтапно; она позволяет оптимизировать произвольные дифференцируемые функции потерь. На каждом этапе деревья регрессии `n_classes_` подгоняются по отрицательному градиенту биномиальной или мультиномиальной функции потери отклонения. Бинарная классификация - это особый случай, когда индуцируется только одно дерево регрессии.\n",
        "\n",
        "**Параметры классификатора GradientBoostingClassifier**:\n",
        "\n",
        "- `loss`: функция потерь должна быть оптимизирована. \"отклонение\" относится к отклонению (= логистическая регрессия) для классификации с вероятностными выходными данными. При потере \"экспоненциального\" градиентного усиления восстанавливается алгоритм AdaBoost.\n",
        "***\n",
        "- `learning_rate`: скорость обучения уменьшает вклад каждого дерева на `learning_rate`. Существует компромисс между learning_rate и n_estimators.\n",
        "***\n",
        "- `n_estimators`: количество этапов повышения, которые необходимо выполнить. Градиентное усиление довольно устойчиво к чрезмерной подгонке, поэтому большое количество обычно приводит к повышению производительности.\n",
        "***\n",
        "- `подвыборка`: доля выборок, которая будет использоваться для подбора индивидуальных базовых учащихся. Если значение меньше 1,0, это приводит к увеличению стохастического градиента. `подвыборка` взаимодействует с параметром `n_estimators`. Выбор \"подвыборки < 1,0` приводит к уменьшению дисперсии и увеличению смещения.\n",
        "***\n",
        "- `criterion`: функция для измерения качества разделения. Поддерживаемыми критериями являются \"friedman_mse\" для среднеквадратичной ошибки с оценкой улучшения по Фридману, \"`mse`\" для среднеквадратичной ошибки и \"`mae`\" для средней абсолютной ошибки. Значение по умолчанию \"friedman_mse\", как правило, является наилучшим, поскольку в некоторых случаях оно может обеспечить лучшее приближение.\n",
        "***\n",
        "- `min_samples_split`: минимальное количество выборок, необходимое для разделения внутреннего узла.\n",
        "***\n",
        "- `min_samples_leaf`: минимальное количество выборок, необходимое для нахождения в конечном узле. Точка разделения на любой глубине будет учитываться только в том случае, если она оставляет по крайней мере обучающие выборки `min_samples_leaf` в каждой из левой и правой ветвей. Это может привести к сглаживанию модели, особенно при регрессии.\n",
        "***\n",
        "- `min_weight_fraction_leaf`: минимальная взвешенная доля от общей суммы весов (всех входных выборок), необходимая для нахождения в конечном узле. Образцы имеют одинаковый вес, если sample_weight не указан.\n",
        "***\n",
        "- `max_depth`: максимальная глубина отдельных регрессионных оценок. Максимальная глубина ограничивает количество узлов в дереве. Настройте этот параметр для достижения наилучшей производительности; наилучшее значение зависит от взаимодействия входных переменных.\n",
        "***\n",
        "- `min_impurity_decrease`: Узел будет разделен, если это разделение приведет к уменьшению примеси, большему или равному этому значению.\n",
        "***\n",
        "- `min_impurity_split`: порог для ранней остановки роста дерева. Узел разделится, если его примесь превысит пороговое значение, в противном случае это лист.\n",
        "***\n",
        "- `max_features`: количество функций, которые следует учитывать при поиске наилучшего разделения.\n",
        "***\n",
        "- `max_leaf_nodes`: Выращивайте деревья с помощью `max_leaf_nodes` наилучшим образом. Наилучшие узлы определяются как относительное уменьшение содержания примесей. Если нет, то неограниченное количество конечных узлов.\n",
        "***\n",
        "- `warm_start`: если установлено значение `True`, повторно используйте решение предыдущего вызова для подгонки и добавьте больше оценок в ансамбль, в противном случае просто удалите предыдущее решение.\n",
        "***\n",
        "- `validation_fraction`: доля обучающих данных, которую следует отложить в качестве набора проверки для ранней остановки. Должно быть в диапазоне от 0 до 1. Используется только в том случае, если для параметра `n_iter_no_change` задано целое число.\n",
        "***\n",
        "- `n_iter_no_change`: используется для определения того, будет ли использоваться досрочная остановка для прекращения обучения, если оценка проверки не улучшается. По умолчанию для отключения ранней остановки установлено значение \"Нет\". Если задано значение number, оно будет использовать размер обучающих данных `validation_fraction` в качестве проверки и завершит обучение, когда оценка проверки не улучшится во всех предыдущих `n_iter_no_change` числах итераций. Раскол носит стратифицированный характер.\n",
        "***\n",
        "- `tol`: Допуск к ранней остановке. Когда потери не увеличиваются по крайней мере на tol для итераций `n_iter_no_change` (если задано число), обучение прекращается.\n",
        "***\n",
        "- `ccp_alpha`: Параметр сложности, используемый для сокращения сложности с минимальными затратами. Будет выбрано поддерево с наибольшей стоимостной сложностью, которая меньше, чем `ccp_alpha`.\n",
        "***"
      ]
    },
    {
      "cell_type": "code",
      "execution_count": null,
      "id": "d8e0ca05",
      "metadata": {
        "execution": {
          "iopub.execute_input": "2023-01-31T22:08:28.614256Z",
          "iopub.status.busy": "2023-01-31T22:08:28.613849Z",
          "iopub.status.idle": "2023-01-31T22:08:28.784590Z",
          "shell.execute_reply": "2023-01-31T22:08:28.783080Z"
        },
        "papermill": {
          "duration": 0.187487,
          "end_time": "2023-01-31T22:08:28.787948",
          "exception": false,
          "start_time": "2023-01-31T22:08:28.600461",
          "status": "completed"
        },
        "tags": [],
        "id": "d8e0ca05"
      },
      "outputs": [],
      "source": [
        "from sklearn.ensemble import GradientBoostingClassifier\n",
        "\n",
        "grad_boost_clf = GradientBoostingClassifier(n_estimators=100, random_state=1234)\n",
        "grad_boost_clf.fit(X_train, y_train)\n",
        "evaluate(grad_boost_clf, X_train, X_test, y_train, y_test)"
      ]
    },
    {
      "cell_type": "code",
      "execution_count": null,
      "id": "666bb917",
      "metadata": {
        "execution": {
          "iopub.execute_input": "2023-01-31T22:08:28.814756Z",
          "iopub.status.busy": "2023-01-31T22:08:28.814358Z",
          "iopub.status.idle": "2023-01-31T22:08:28.826816Z",
          "shell.execute_reply": "2023-01-31T22:08:28.825326Z"
        },
        "papermill": {
          "duration": 0.028709,
          "end_time": "2023-01-31T22:08:28.829458",
          "exception": false,
          "start_time": "2023-01-31T22:08:28.800749",
          "status": "completed"
        },
        "tags": [],
        "id": "666bb917"
      },
      "outputs": [],
      "source": [
        "scores['Gradient Boosting'] = {\n",
        "        'Train': accuracy_score(y_train, grad_boost_clf.predict(X_train)),\n",
        "        'Test': accuracy_score(y_test, grad_boost_clf.predict(X_test)),\n",
        "    }"
      ]
    },
    {
      "cell_type": "code",
      "execution_count": null,
      "metadata": {
        "execution": {
          "iopub.execute_input": "2023-01-31T22:08:22.579133Z",
          "iopub.status.busy": "2023-01-31T22:08:22.578681Z",
          "iopub.status.idle": "2023-01-31T22:08:23.086268Z",
          "shell.execute_reply": "2023-01-31T22:08:23.084949Z"
        },
        "papermill": {
          "duration": 0.523687,
          "end_time": "2023-01-31T22:08:23.089393",
          "exception": false,
          "start_time": "2023-01-31T22:08:22.565706",
          "status": "completed"
        },
        "tags": [],
        "id": "Gk0iXOIyVOdF"
      },
      "outputs": [],
      "source": [
        "scores_f1['Gradient Boosting'] = {\n",
        "        'Train': f1_score(y_train, grad_boost_clf.predict(X_train)),\n",
        "        'Test': f1_score(y_test, grad_boost_clf.predict(X_test)),\n",
        "}"
      ],
      "id": "Gk0iXOIyVOdF"
    },
    {
      "cell_type": "code",
      "source": [
        "scores_f1"
      ],
      "metadata": {
        "id": "QkbS07vvWXVE"
      },
      "id": "QkbS07vvWXVE",
      "execution_count": null,
      "outputs": []
    },
    {
      "cell_type": "markdown",
      "id": "d3f0044b",
      "metadata": {
        "papermill": {
          "duration": 0.011808,
          "end_time": "2023-01-31T22:08:28.854224",
          "exception": false,
          "start_time": "2023-01-31T22:08:28.842416",
          "status": "completed"
        },
        "tags": [],
        "id": "d3f0044b"
      },
      "source": [
        "# Ансамбль для Voting\n",
        "\n",
        "Voting  - один из простейших способов объединения прогнозов, полученных с помощью нескольких алгоритмов машинного обучения.\n",
        "\n",
        "Это работает путем предварительного создания двух или более автономных моделей из вашего обучающего набора данных. Затем классификатор голосования можно использовать для переноса ваших моделей и усреднения прогнозов подмоделей, когда их попросят сделать прогнозы для новых данных.\n",
        "\n",
        "Предсказания подмоделей могут быть взвешены, но задать веса для классификаторов вручную или даже эвристически сложно. Более продвинутые методы позволяют узнать, как наилучшим образом взвешивать прогнозы из подмоделей, но это называется стекированием (stacked generalization) и в настоящее время не предоставляется в Scikit-learn.\n",
        "\n",
        "**Классификатор Voting ** :\n",
        "- `estimators`: Вызов метода `fit` в `VotingClassifier` приведет к подбору клонов тех исходных оценок, которые будут сохранены в атрибуте класса `self.estimators_`.\n",
        "***\n",
        "- `voting`: если \"hard\", использует предсказанные метки классов для голосования по правилу большинства. В противном случае, если \"soft\", спрогнозируйте метку класса на основе argmax сумм предсказанных вероятностей, что рекомендуется для ансамбля хорошо откалиброванных классификаторов.\n",
        "***"
      ]
    },
    {
      "cell_type": "code",
      "execution_count": null,
      "id": "cc9eeb76",
      "metadata": {
        "execution": {
          "iopub.execute_input": "2023-01-31T22:08:28.881226Z",
          "iopub.status.busy": "2023-01-31T22:08:28.879821Z",
          "iopub.status.idle": "2023-01-31T22:08:28.959618Z",
          "shell.execute_reply": "2023-01-31T22:08:28.958165Z"
        },
        "papermill": {
          "duration": 0.09688,
          "end_time": "2023-01-31T22:08:28.963233",
          "exception": false,
          "start_time": "2023-01-31T22:08:28.866353",
          "status": "completed"
        },
        "tags": [],
        "id": "cc9eeb76"
      },
      "outputs": [],
      "source": [
        "from sklearn.ensemble import VotingClassifier # Похоже Стэккинг\n",
        "from sklearn.linear_model import LogisticRegression\n",
        "from sklearn.svm import SVC\n",
        "\n",
        "estimators = []\n",
        "log_reg = LogisticRegression(solver='liblinear')\n",
        "estimators.append(('Logistic', log_reg))\n",
        "\n",
        "tree = DecisionTreeClassifier()\n",
        "estimators.append(('Tree', tree))\n",
        "\n",
        "svm_clf = SVC(gamma='scale')\n",
        "estimators.append(('SVM', svm_clf))\n",
        "\n",
        "voting = VotingClassifier(estimators=estimators)\n",
        "voting.fit(X_train, y_train)\n",
        "\n",
        "evaluate(voting, X_train, X_test, y_train, y_test)"
      ]
    },
    {
      "cell_type": "code",
      "execution_count": null,
      "id": "5be32103",
      "metadata": {
        "execution": {
          "iopub.execute_input": "2023-01-31T22:08:28.990153Z",
          "iopub.status.busy": "2023-01-31T22:08:28.989726Z",
          "iopub.status.idle": "2023-01-31T22:08:29.022479Z",
          "shell.execute_reply": "2023-01-31T22:08:29.021340Z"
        },
        "papermill": {
          "duration": 0.049169,
          "end_time": "2023-01-31T22:08:29.025100",
          "exception": false,
          "start_time": "2023-01-31T22:08:28.975931",
          "status": "completed"
        },
        "tags": [],
        "id": "5be32103"
      },
      "outputs": [],
      "source": [
        "scores['Voting'] = {\n",
        "        'Train': accuracy_score(y_train, voting.predict(X_train)),\n",
        "        'Test': accuracy_score(y_test, voting.predict(X_test)),\n",
        "    }"
      ]
    },
    {
      "cell_type": "code",
      "execution_count": null,
      "metadata": {
        "execution": {
          "iopub.execute_input": "2023-01-31T22:08:22.579133Z",
          "iopub.status.busy": "2023-01-31T22:08:22.578681Z",
          "iopub.status.idle": "2023-01-31T22:08:23.086268Z",
          "shell.execute_reply": "2023-01-31T22:08:23.084949Z"
        },
        "papermill": {
          "duration": 0.523687,
          "end_time": "2023-01-31T22:08:23.089393",
          "exception": false,
          "start_time": "2023-01-31T22:08:22.565706",
          "status": "completed"
        },
        "tags": [],
        "id": "W1lGig2FVPg2"
      },
      "outputs": [],
      "source": [
        "scores_f1['Voting'] = {\n",
        "        'Train': f1_score(y_train, voting.predict(X_train)),\n",
        "        'Test': f1_score(y_test, voting.predict(X_test)),\n",
        "}"
      ],
      "id": "W1lGig2FVPg2"
    },
    {
      "cell_type": "code",
      "source": [
        "scores_f1"
      ],
      "metadata": {
        "id": "4ud_sEEfWnCw"
      },
      "id": "4ud_sEEfWnCw",
      "execution_count": null,
      "outputs": []
    },
    {
      "cell_type": "markdown",
      "id": "afba9229",
      "metadata": {
        "papermill": {
          "duration": 0.012006,
          "end_time": "2023-01-31T22:08:29.049516",
          "exception": false,
          "start_time": "2023-01-31T22:08:29.037510",
          "status": "completed"
        },
        "tags": [],
        "id": "afba9229"
      },
      "source": [
        "# Сравнение моделей"
      ]
    },
    {
      "cell_type": "code",
      "execution_count": null,
      "id": "5db618bd",
      "metadata": {
        "execution": {
          "iopub.execute_input": "2023-01-31T22:08:29.076345Z",
          "iopub.status.busy": "2023-01-31T22:08:29.075724Z",
          "iopub.status.idle": "2023-01-31T22:08:29.438682Z",
          "shell.execute_reply": "2023-01-31T22:08:29.437560Z"
        },
        "papermill": {
          "duration": 0.379033,
          "end_time": "2023-01-31T22:08:29.441129",
          "exception": false,
          "start_time": "2023-01-31T22:08:29.062096",
          "status": "completed"
        },
        "tags": [],
        "id": "5db618bd"
      },
      "outputs": [],
      "source": [
        "# Сравнение моделей по Accuracy\n",
        "\n",
        "scores_df = pd.DataFrame(scores)\n",
        "\n",
        "scores_df.plot(kind='barh', figsize=(15, 8))"
      ]
    },
    {
      "cell_type": "code",
      "source": [
        "# Сравнение моделей по F1 мере\n",
        "\n",
        "scores_f1_df = pd.DataFrame(scores_f1)\n",
        "\n",
        "scores_f1_df.plot(kind='barh', figsize=(15, 8))"
      ],
      "metadata": {
        "id": "7gwjzuFYWALk"
      },
      "id": "7gwjzuFYWALk",
      "execution_count": null,
      "outputs": []
    },
    {
      "cell_type": "code",
      "source": [
        "scores_f1_df"
      ],
      "metadata": {
        "id": "OGMH8j8_WPbO"
      },
      "id": "OGMH8j8_WPbO",
      "execution_count": null,
      "outputs": []
    },
    {
      "cell_type": "markdown",
      "id": "684c2c9b",
      "metadata": {
        "papermill": {
          "duration": 0.01271,
          "end_time": "2023-01-31T22:08:29.467016",
          "exception": false,
          "start_time": "2023-01-31T22:08:29.454306",
          "status": "completed"
        },
        "tags": [],
        "id": "684c2c9b"
      },
      "source": [
        "## Краткое описание\n",
        "В этом блокноте сравнили для себя алгоритмы ансамблевого машинного обучения  для повышения производительности моделей в  задаче определения диабета.\n",
        "\n",
        "Вы узнали о:\n",
        "\n",
        "1. Bagging Ensembles, включая Bagged Decision Trees, Random Forest, и Extra Trees.\n",
        "2. Boosting Ensembles, включая AdaBoost и Stochastic Gradient Boosting.\n",
        "3. Voting Ensembles для усреднения прогнозов для любых произвольных моделей.\n",
        "\n",
        "## Ссылки:\n",
        "- [Ансамбли в машинном обучении. ШАД](https://academy.yandex.ru/handbook/ml/article/ansambli-v-mashinnom-obuchenii)\n",
        "- [Градиентный бустинг. ШАД](https://academy.yandex.ru/handbook/ml/article/gradientnyj-busting)\n",
        "- [Алгоритмы пакетирования и случайного лесного ансамбля для машинного Learning](https://machinelearningmastery.com/bagging-and-random-forest-ensemble-algorithms-for-machine-learning/)\n",
        "- [Ансамблевые алгоритмы машинного обучения на Python с scikit-learn](https://machinelearningmastery.com/ensemble-machine-learning-algorithms-python-scikit-learn/)\n",
        "[Библиотека Scikit-learn](https://scikit-learn.org/stable /)\n"
      ]
    },
    {
      "cell_type": "code",
      "execution_count": null,
      "id": "f65cb169",
      "metadata": {
        "papermill": {
          "duration": 0.012306,
          "end_time": "2023-01-31T22:08:29.491989",
          "exception": false,
          "start_time": "2023-01-31T22:08:29.479683",
          "status": "completed"
        },
        "tags": [],
        "id": "f65cb169"
      },
      "outputs": [],
      "source": []
    }
  ],
  "metadata": {
    "kernelspec": {
      "display_name": "Python 3",
      "language": "python",
      "name": "python3"
    },
    "language_info": {
      "codemirror_mode": {
        "name": "ipython",
        "version": 3
      },
      "file_extension": ".py",
      "mimetype": "text/x-python",
      "name": "python",
      "nbconvert_exporter": "python",
      "pygments_lexer": "ipython3",
      "version": "3.7.12"
    },
    "papermill": {
      "default_parameters": {},
      "duration": 23.963558,
      "end_time": "2023-01-31T22:08:30.328073",
      "environment_variables": {},
      "exception": null,
      "input_path": "__notebook__.ipynb",
      "output_path": "__notebook__.ipynb",
      "parameters": {},
      "start_time": "2023-01-31T22:08:06.364515",
      "version": "2.3.4"
    },
    "colab": {
      "provenance": []
    }
  },
  "nbformat": 4,
  "nbformat_minor": 5
}