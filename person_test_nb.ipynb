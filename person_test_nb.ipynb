{
 "cells": [
  {
   "cell_type": "markdown",
   "id": "d025e1b9",
   "metadata": {},
   "source": [
    "# Задача 1\n",
    "\n",
    "## Класс Person"
   ]
  },
  {
   "cell_type": "code",
   "execution_count": 3,
   "id": "fc0a5e6f",
   "metadata": {},
   "outputs": [],
   "source": [
    "import numpy as np\n",
    "import pandas as pd\n",
    "import pymorphy2"
   ]
  },
  {
   "cell_type": "code",
   "execution_count": 4,
   "id": "f8608eb2",
   "metadata": {},
   "outputs": [],
   "source": [
    "class Person():\n",
    "    __age = 0\n",
    "    # test = 89\n",
    "    # _test = 98\n",
    "    # __test = 7545\n",
    "\n",
    "    def __init__(self, name: str):\n",
    "        self.name = name\n",
    "\n",
    "    @property\n",
    "    def age(self):\n",
    "        return self.__age\n",
    "    \n",
    "    @age.setter\n",
    "    def age(self, age):\n",
    "        self.__age = age\n",
    "\n",
    "    @staticmethod\n",
    "    def is_adult(age):\n",
    "        print(age)\n",
    "        if age > 18:\n",
    "            return \"Взрослый\"\n",
    "        else:\n",
    "            return \"Меньше 18 лет\"\n",
    " "
   ]
  },
  {
   "cell_type": "code",
   "execution_count": 5,
   "id": "3b4ba120",
   "metadata": {},
   "outputs": [
    {
     "name": "stdout",
     "output_type": "stream",
     "text": [
      "Распечатка значения name переменной __main__\n"
     ]
    }
   ],
   "source": [
    "def multiply_age(age: int):\n",
    "    print(age)\n",
    "    return age ** 2\n",
    "\n",
    "\n",
    "print(\"Распечатка значения name переменной\", __name__)"
   ]
  },
  {
   "cell_type": "code",
   "execution_count": 6,
   "id": "9812043f",
   "metadata": {},
   "outputs": [
    {
     "name": "stdout",
     "output_type": "stream",
     "text": [
      "Имя созданного класса Beta\n",
      "{'name': 'Beta', '_Person__age': 35}\n",
      "Возраст созданного  <class '__main__.Person'> 35\n",
      "Возраст созданного  <class '__main__.Person'> 54\n",
      "Имя созданного класса Gamma\n",
      "{'name': 'Gamma'}\n",
      "Возраст созданного  <class '__main__.Person'> 0\n",
      "0\n",
      "Меньше 18 лет\n",
      "54\n",
      "2916\n",
      "Взрослый\n"
     ]
    }
   ],
   "source": [
    "if __name__ == '__main__':\n",
    "    beta_person = Person('Beta')\n",
    "    beta_person.age = 35\n",
    "\n",
    "    print(\"Имя созданного класса\", beta_person.name)\n",
    "    print(beta_person.__dict__)\n",
    "    print(\"Возраст созданного \", beta_person.__class__, beta_person.age)\n",
    "    beta_person.age = 54\n",
    "    print(\"Возраст созданного \", beta_person.__class__, beta_person.age)\n",
    "\n",
    "    gamma_person = Person('Gamma')\n",
    "    print(\"Имя созданного класса\", gamma_person.name)\n",
    "    print(gamma_person.__dict__)\n",
    "    print(\"Возраст созданного \", gamma_person.__class__, gamma_person.age)\n",
    "\n",
    "    print(gamma_person.is_adult(gamma_person.age))\n",
    "    #print(gamma_person.is_adult())\n",
    "\n",
    "    print(beta_person.is_adult(multiply_age(beta_person.age)))"
   ]
  }
 ],
 "metadata": {
  "kernelspec": {
   "display_name": "Python 3 (ipykernel)",
   "language": "python",
   "name": "python3"
  },
  "language_info": {
   "codemirror_mode": {
    "name": "ipython",
    "version": 3
   },
   "file_extension": ".py",
   "mimetype": "text/x-python",
   "name": "python",
   "nbconvert_exporter": "python",
   "pygments_lexer": "ipython3",
   "version": "3.10.9"
  }
 },
 "nbformat": 4,
 "nbformat_minor": 5
}
