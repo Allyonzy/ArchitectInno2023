{
 "cells": [
  {
   "cell_type": "code",
   "execution_count": 1,
   "metadata": {},
   "outputs": [],
   "source": [
    "import pandas as pd"
   ]
  },
  {
   "cell_type": "code",
   "execution_count": 6,
   "metadata": {},
   "outputs": [
    {
     "name": "stdout",
     "output_type": "stream",
     "text": [
      "     S.NO               Name Nationality  Current Rank Previous Year Rank  \\\n",
      "0       1         Mike Tyson         USA             1                NaN   \n",
      "1       2     Buster Douglas         USA             2                NaN   \n",
      "2       3  Sugar Ray Leonard         USA             3                NaN   \n",
      "3       4       Ayrton Senna      Brazil             4                NaN   \n",
      "4       5        Alain Prost      France             5                NaN   \n",
      "..    ...                ...         ...           ...                ...   \n",
      "296   297      Stephen Curry         USA             6                  9   \n",
      "297   298       Kevin Durant         USA             7                 10   \n",
      "298   299        Tiger Woods         USA             8                 11   \n",
      "299   300       Kirk Cousins         USA             9               >100   \n",
      "300   301       Carson Wentz         USA            10               >100   \n",
      "\n",
      "                 Sport  Year  earnings ($ million)  \n",
      "0               boxing  1990                  28.6  \n",
      "1               boxing  1990                  26.0  \n",
      "2               boxing  1990                  13.0  \n",
      "3          auto racing  1990                  10.0  \n",
      "4          auto racing  1990                   9.0  \n",
      "..                 ...   ...                   ...  \n",
      "296         Basketball  2020                  74.4  \n",
      "297         Basketball  2020                  63.9  \n",
      "298               Golf  2020                  62.3  \n",
      "299  American Football  2020                  60.5  \n",
      "300  American Football  2020                  59.1  \n",
      "\n",
      "[301 rows x 8 columns]\n"
     ]
    }
   ],
   "source": [
    "df = pd.read_csv('../dataset/forbes_richest_atheletes.csv')\n",
    "print(df)"
   ]
  }
 ],
 "metadata": {
  "kernelspec": {
   "display_name": "Python 3",
   "language": "python",
   "name": "python3"
  },
  "language_info": {
   "codemirror_mode": {
    "name": "ipython",
    "version": 3
   },
   "file_extension": ".py",
   "mimetype": "text/x-python",
   "name": "python",
   "nbconvert_exporter": "python",
   "pygments_lexer": "ipython3",
   "version": "3.8.10"
  },
  "orig_nbformat": 4
 },
 "nbformat": 4,
 "nbformat_minor": 2
}
